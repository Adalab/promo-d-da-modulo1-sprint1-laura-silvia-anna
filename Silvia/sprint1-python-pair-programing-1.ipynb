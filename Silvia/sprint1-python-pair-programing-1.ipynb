{
 "cells": [
  {
   "cell_type": "code",
   "execution_count": 1,
   "metadata": {},
   "outputs": [],
   "source": [
    "numero1 = 1\n",
    "numero2 = 2\n",
    "numero3 = 3"
   ]
  },
  {
   "cell_type": "code",
   "execution_count": 2,
   "metadata": {},
   "outputs": [
    {
     "name": "stdout",
     "output_type": "stream",
     "text": [
      "¿Es mayor número 1 que número 2? False\n",
      "¿Es el numero1 menor que el numero2 pero mayor que el numero3? False\n",
      "¿Es el numero3 igual que el numero2? False\n",
      "¿Es el numero2 distinto que el numero1? True\n"
     ]
    }
   ],
   "source": [
    "\n",
    "print('¿Es mayor número 1 que número 2?', numero1 > numero2)\n",
    "print('¿Es el numero1 menor que el numero2 pero mayor que el numero3?', numero2 > numero1 > numero3)\n",
    "print('¿Es el numero3 igual que el numero2?', numero3 == numero2)\n",
    "print('¿Es el numero2 distinto que el numero1?', numero2 != numero1)"
   ]
  },
  {
   "cell_type": "code",
   "execution_count": 3,
   "metadata": {},
   "outputs": [
    {
     "name": "stdout",
     "output_type": "stream",
     "text": [
      "Suma: 3.27\n",
      "Diferencia: 0.10999999999999988\n",
      "Resto: 0.10999999999999988\n",
      "Division redondeada a UN decimal: 1.1\n"
     ]
    }
   ],
   "source": [
    "altura1=1.69\n",
    "altura2=1.58\n",
    "print(\"Suma:\", altura1+altura2)\n",
    "print(\"Diferencia:\", altura1-altura2)\n",
    "print(\"Resto:\", altura1%altura2)\n",
    "print(\"Division redondeada a UN decimal:\",round((altura1/altura2),1))"
   ]
  },
  {
   "cell_type": "code",
   "execution_count": 4,
   "metadata": {},
   "outputs": [
    {
     "name": "stdout",
     "output_type": "stream",
     "text": [
      "Nombre_y_apellidos:  Sonia Perez\n",
      "Nombre mayusculas: SONIA PEREZ\n",
      "Nombre minusculas sonia perez\n",
      "Nombre en título:  Sonia Perez\n",
      "Nombre con primera mayúscula:  Sonia perez\n"
     ]
    }
   ],
   "source": [
    "nombre_completo=input()\n",
    "print(\"Nombre_y_apellidos: \",nombre_completo)\n",
    "print(\"Nombre mayusculas:\",nombre_completo.upper())\n",
    "print(\"Nombre minusculas\",nombre_completo.lower())\n",
    "print(\"Nombre en título: \", nombre_completo.title())\n",
    "print(\"Nombre con primera mayúscula: \", nombre_completo.capitalize())"
   ]
  },
  {
   "cell_type": "code",
   "execution_count": 5,
   "metadata": {},
   "outputs": [
    {
     "name": "stdout",
     "output_type": "stream",
     "text": [
      "Dime una frase: \n",
      "Dime una vocal: \n",
      "quiero unAs vAcAciones\n"
     ]
    }
   ],
   "source": [
    "frase = input(print('Dime una frase: '))\n",
    "vocal = input(print('Dime una vocal: '))\n",
    "frase_mayusculas = frase.replace(vocal, vocal.upper())\n",
    "print(frase_mayusculas)"
   ]
  },
  {
   "cell_type": "code",
   "execution_count": 6,
   "metadata": {},
   "outputs": [
    {
     "name": "stdout",
     "output_type": "stream",
     "text": [
      "Introduce los elementos de la lista de la compra:\n",
      "['pan', 'leche', 'huevos']\n",
      "pan\n",
      "leche\n",
      "huevos\n"
     ]
    }
   ],
   "source": [
    "\n",
    "compra=input(print(\"Introduce los elementos de la lista de la compra:\"))\n",
    "lista_compra=compra.split(', ')\n",
    "print(lista_compra)\n",
    "mostrar_compra='\\n'.join(lista_compra)\n",
    "print(mostrar_compra)"
   ]
  }
 ],
 "metadata": {
  "kernelspec": {
   "display_name": "base",
   "language": "python",
   "name": "python3"
  },
  "language_info": {
   "codemirror_mode": {
    "name": "ipython",
    "version": 3
   },
   "file_extension": ".py",
   "mimetype": "text/x-python",
   "name": "python",
   "nbconvert_exporter": "python",
   "pygments_lexer": "ipython3",
   "version": "3.9.13"
  },
  "orig_nbformat": 4,
  "vscode": {
   "interpreter": {
    "hash": "6e381c4e0881c19ec4405b2adff3498edf3b25f59ec2650620a337d7c4381cef"
   }
  }
 },
 "nbformat": 4,
 "nbformat_minor": 2
}
