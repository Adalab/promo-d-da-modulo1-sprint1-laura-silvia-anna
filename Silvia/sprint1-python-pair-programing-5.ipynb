{
 "cells": [
  {
   "cell_type": "code",
   "execution_count": 3,
   "metadata": {},
   "outputs": [],
   "source": [
    "# Cread una lista con 10 números aleatorios entre el 0 y el 100. Para esto tendréis que ejecutar el siguiente código:\n",
    "\n",
    "import random\n",
    "lista=random.sample(range(1,100),10)\n"
   ]
  },
  {
   "cell_type": "code",
   "execution_count": 4,
   "metadata": {},
   "outputs": [
    {
     "name": "stdout",
     "output_type": "stream",
     "text": [
      "[77, 48, 65, 60, 58, 43, 49, 20, 73, 93]\n"
     ]
    }
   ],
   "source": [
    "print(lista)"
   ]
  },
  {
   "attachments": {},
   "cell_type": "markdown",
   "metadata": {},
   "source": [
    "Con la lista creada en el ejercicio anterior:\n",
    "- ¿Cuál es la longitud de la lista? Utilizad métodos de Python para extraer este resultado.\n",
    "- Extraed el número que está en la tercera posición.Recordad que los índices en Python empiezan en 0 y que no corresponden con las \"posiciones humanas\"\n",
    "- Extraed el número que esta en la tercera posición utilizando los índices negativos.\n",
    "- Preguntad al usuario por un número de la lista que hemos creado en el primer paso, recordad que para eso tendréis que usar la función input. ¿En que posición esta el número que ha eligido la usuaria?"
   ]
  },
  {
   "cell_type": "code",
   "execution_count": 5,
   "metadata": {},
   "outputs": [
    {
     "name": "stdout",
     "output_type": "stream",
     "text": [
      "Longitud de la lista:  10\n",
      "Tercer elemento:  65\n",
      "Tercer elemento usando indices negativos:  65\n",
      "LISTA: [77, 48, 65, 60, 58, 43, 49, 20, 73, 93]\n",
      "Introduce un elemento de la lista mostrada lineas arriba: \n",
      "El elemento  60 de la lista esta en la posicion  3\n"
     ]
    }
   ],
   "source": [
    "print(\"Longitud de la lista: \", len(lista))\n",
    "print (\"Tercer elemento: \", lista[2])\n",
    "print (\"Tercer elemento usando indices negativos: \",lista[-8])\n",
    "print(\"LISTA:\",lista)\n",
    "numero_buscado=input(print(\"Introduce un elemento de la lista mostrada lineas arriba: \"))\n",
    "print (\"El elemento \", numero_buscado, \"de la lista esta en la posicion \",lista.index(int(numero_buscado)))"
   ]
  },
  {
   "attachments": {},
   "cell_type": "markdown",
   "metadata": {},
   "source": [
    "- Extraed los valores que estén entre la tercera posición y la quinta (ambos inclusive). Esto nos tendrá que devolver una lista de 3 elementos.\n",
    "- Extraed los valores que estén entre las posiciones 6 y 9 utilizando índices negativos. Os debe devolver una lista con 4 números.\n",
    "- ¿Cuáles son los numéros que están en las posiciones pares nuestra lista?\n",
    "- ¿Y los que están en posiciones impares?"
   ]
  },
  {
   "cell_type": "code",
   "execution_count": 6,
   "metadata": {},
   "outputs": [
    {
     "name": "stdout",
     "output_type": "stream",
     "text": [
      "[65, 60, 58]\n",
      "[43, 49, 20, 73]\n",
      "[48, 60, 43, 20, 93]\n",
      "[77, 65, 58, 49, 73]\n"
     ]
    }
   ],
   "source": [
    "lista2 = lista[2:5]\n",
    "print(lista2)\n",
    "\n",
    "lista3 = lista[-5:-1]\n",
    "print(lista3)\n",
    "\n",
    "lista4 = lista[1::2]\n",
    "print(lista4)\n",
    "\n",
    "lista5 = lista[::2]\n",
    "print(lista5)"
   ]
  },
  {
   "attachments": {},
   "cell_type": "markdown",
   "metadata": {},
   "source": [
    "- ¿Qué nota ha sacado Lupe? Para este ejercicio os pedimos que uséis primero el método index() de listas y luego lo índices con [] de las listas. Para esto tendréis que sacar primero en que posición esta Lupe en la lista nombres y usar el resultado de este paso para acceder ,usando los índices de Python, a la nota de Lupe.\n",
    "- De la misma forma, ¿qué alumna a sacado la nota más alta? Tendréis que poner en práctica, métodos aprendidos hoy y en la lección de listas de ayer.\n",
    "- ¿Qué alumna a sacado la nota más baja? ¿Es esta nota mayor que 5?\n"
   ]
  },
  {
   "cell_type": "code",
   "execution_count": null,
   "metadata": {},
   "outputs": [],
   "source": [
    "nombres=[\"Laura\",\"Lorena\",\"Lupe\",\"Loreto\",\"Lucía\"]\n",
    "notas=[9,8.5,9.8,8.9,9.2]\n",
    "print(\"Nota Lupe\",notas[nombres.index(\"Lupe\")])\n",
    "print(\"Alumna con la nota mas alta: \", nombres[notas.index(max(notas))])\n",
    "print(\"Alumna con la nota mas baja: \", nombres[notas.index(min(notas))])\n",
    "print(\"Es esa nota mayor que 5: \", int(notas[notas.index(max(notas))])>5)"
   ]
  },
  {
   "cell_type": "code",
   "execution_count": null,
   "metadata": {},
   "outputs": [],
   "source": [
    "\n",
    "#Ordena las notas de las alumnas de mayor a menor, no sobreescribiendo la lista.\n",
    "notas_nuevo_orden=sorted(notas,reverse=True)\n",
    "print(\"Orden notas mayor a menor sin modificar lista: \",notas_nuevo_orden)\n",
    "print(notas) # no se ha modificado la lista 'notas'\n",
    "\n",
    "# AYUDA! ######################################################################\n",
    "print(\"Orden notas mayor a menor modificando lista: \",notas.sort(reverse=True))\n",
    "\n",
    "\n",
    "#Ordenad la lista de nombres de mayor a menor. ¿Qué es lo que ha pasado?\n",
    "\n",
    "################################################################################\n",
    "\n",
    "\n",
    "nombres_nuevo_orden=sorted(nombres,reverse=True)\n",
    "print(\"Orden nombres de mayor a menor sin modificar lista: \",nombres_nuevo_orden)\n",
    "print(nombres)\n",
    "\n",
    "#Borrad la lista de notas\n",
    "print('Notas:',notas)\n",
    "del (notas[:])\n",
    "print('Notas:',notas)\n",
    "\n"
   ]
  },
  {
   "attachments": {},
   "cell_type": "markdown",
   "metadata": {},
   "source": [
    "Unid las tres listas de forma que tengamos el siguiente output \n",
    "[34, 56, 82, [99, 64, 24], [12, 59, 71]]"
   ]
  },
  {
   "cell_type": "code",
   "execution_count": 74,
   "metadata": {},
   "outputs": [
    {
     "name": "stdout",
     "output_type": "stream",
     "text": [
      "Lista con listas: [34, 56, 82, [99, 64, 24], [12, 59, 71]]\n"
     ]
    }
   ],
   "source": [
    "lunes = [34,56,82]\n",
    "martes = [99, 64, 24]\n",
    "miercoles = [12, 59, 71]\n",
    "lunes.append(martes)\n",
    "lunes.append(miercoles)\n",
    "print(\"Lista con listas:\",lunes)"
   ]
  },
  {
   "cell_type": "code",
   "execution_count": 75,
   "metadata": {},
   "outputs": [
    {
     "name": "stdout",
     "output_type": "stream",
     "text": [
      "Lista sin listas: [34, 56, 82, 99, 64, 24, 12, 59, 71]\n"
     ]
    }
   ],
   "source": [
    "lunes = [34,56,82]\n",
    "martes = [99, 64, 24]\n",
    "miercoles = [12, 59, 71]\n",
    "lunes.extend(martes)\n",
    "lunes.extend(miercoles)\n",
    "print(\"Lista sin listas:\",lunes)"
   ]
  },
  {
   "attachments": {},
   "cell_type": "markdown",
   "metadata": {},
   "source": [
    "Definid de nuevo las tres listas. Insertad los siguientes valores:\n",
    "- En la lista lunes un 100 en la primera posición\n",
    "- En la lista martes un 100 en la tercera posición\n",
    "- En la lista miercoles un 100 en la última posición"
   ]
  },
  {
   "cell_type": "code",
   "execution_count": 10,
   "metadata": {},
   "outputs": [
    {
     "name": "stdout",
     "output_type": "stream",
     "text": [
      "[100, 34, 56, 82]\n",
      "[99, 100, 64, 24]\n",
      "[12, 59, 71, 100]\n"
     ]
    }
   ],
   "source": [
    "lunes = [34,56,82]\n",
    "martes = [99, 64, 24]\n",
    "miercoles = [12, 59, 71]\n",
    "lunes.insert(0,100)\n",
    "martes.insert(1,100)\n",
    "miercoles.insert(4,100)\n",
    "\n",
    "print(lunes)\n",
    "print(martes)\n",
    "print(miercoles)"
   ]
  }
 ],
 "metadata": {
  "kernelspec": {
   "display_name": "base",
   "language": "python",
   "name": "python3"
  },
  "language_info": {
   "codemirror_mode": {
    "name": "ipython",
    "version": 3
   },
   "file_extension": ".py",
   "mimetype": "text/x-python",
   "name": "python",
   "nbconvert_exporter": "python",
   "pygments_lexer": "ipython3",
   "version": "3.9.7"
  },
  "orig_nbformat": 4,
  "vscode": {
   "interpreter": {
    "hash": "6e381c4e0881c19ec4405b2adff3498edf3b25f59ec2650620a337d7c4381cef"
   }
  }
 },
 "nbformat": 4,
 "nbformat_minor": 2
}
