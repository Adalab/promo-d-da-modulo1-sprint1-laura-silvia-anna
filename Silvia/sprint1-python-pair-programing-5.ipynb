{
 "cells": [
  {
   "cell_type": "code",
   "execution_count": null,
   "metadata": {},
   "outputs": [],
   "source": [
    "import random\n",
    "lista=random.sample(range(1,100),10)\n"
   ]
  },
  {
   "cell_type": "code",
   "execution_count": null,
   "metadata": {},
   "outputs": [],
   "source": [
    "print(\"Longitud de la lista: \", len(lista))\n",
    "print (\"Tercer elemento: \", lista[2])\n",
    "print (\"Tercer elemento usando indices negativos: \",lista[-8])\n",
    "print(\"LISTA:\",lista)\n",
    "numero_buscado=input(print(\"Introduce un elemento de la lista mostrada lineas arriba: \"))\n",
    "print (\"El elemento \", numero_buscado, \"de la lista esta en la posicion \",lista.index(int(numero_buscado)))"
   ]
  },
  {
   "cell_type": "code",
   "execution_count": null,
   "metadata": {},
   "outputs": [],
   "source": [
    "lista2 = lista[2:5]\n",
    "print(lista2)\n",
    "\n",
    "lista3 = lista[-5:-1]\n",
    "print(lista3)\n",
    "\n",
    "lista4 = lista[1::2]\n",
    "print(lista4)\n",
    "\n",
    "lista5 = lista[::2]\n",
    "print(lista5)"
   ]
  },
  {
   "cell_type": "code",
   "execution_count": null,
   "metadata": {},
   "outputs": [],
   "source": [
    "nombres=[\"Laura\",\"Lorena\",\"Lupe\",\"Loreto\",\"Lucía\"]\n",
    "notas=[9,8.5,9.8,8.9,9.2]\n",
    "print(\"Nota Lupe\",notas[nombres.index(\"Lupe\")])\n",
    "print(\"Alumna con la nota mas alta: \", nombres[notas.index(max(notas))])\n",
    "print(\"Alumna con la nota mas baja: \", nombres[notas.index(min(notas))])\n",
    "print(\"Es esa nota mayor que 5: \", int(notas[notas.index(max(notas))])>5)"
   ]
  },
  {
   "cell_type": "code",
   "execution_count": null,
   "metadata": {},
   "outputs": [],
   "source": [
    "\n",
    "#Ordena las notas de las alumnas de mayor a menor, no sobreescribiendo la lista.\n",
    "notas_nuevo_orden=sorted(notas,reverse=True)\n",
    "print(\"Orden notas mayor a menor sin modificar lista: \",notas_nuevo_orden)\n",
    "print(notas) # no se ha modificado la lista 'notas'\n",
    "\n",
    "# AYUDA! ######################################################################\n",
    "print(\"Orden notas mayor a menor modificando lista: \",notas.sort(reverse=True))\n",
    "\n",
    "\n",
    "#Ordenad la lista de nombres de mayor a menor. ¿Qué es lo que ha pasado?\n",
    "\n",
    "################################################################################\n",
    "\n",
    "\n",
    "nombres_nuevo_orden=sorted(nombres,reverse=True)\n",
    "print(\"Orden nombres de mayor a menor sin modificar lista: \",nombres_nuevo_orden)\n",
    "print(nombres)\n",
    "\n",
    "#Borrad la lista de notas\n",
    "print('Notas:',notas)\n",
    "del (notas[:])\n",
    "print('Notas:',notas)\n",
    "\n"
   ]
  },
  {
   "cell_type": "code",
   "execution_count": 74,
   "metadata": {},
   "outputs": [
    {
     "name": "stdout",
     "output_type": "stream",
     "text": [
      "Lista con listas: [34, 56, 82, [99, 64, 24], [12, 59, 71]]\n"
     ]
    }
   ],
   "source": [
    "lunes = [34,56,82]\n",
    "martes = [99, 64, 24]\n",
    "miercoles = [12, 59, 71]\n",
    "lunes.append(martes)\n",
    "lunes.append(miercoles)\n",
    "print(\"Lista con listas:\",lunes)"
   ]
  },
  {
   "cell_type": "code",
   "execution_count": 75,
   "metadata": {},
   "outputs": [
    {
     "name": "stdout",
     "output_type": "stream",
     "text": [
      "Lista sin listas: [34, 56, 82, 99, 64, 24, 12, 59, 71]\n"
     ]
    }
   ],
   "source": [
    "lunes = [34,56,82]\n",
    "martes = [99, 64, 24]\n",
    "miercoles = [12, 59, 71]\n",
    "lunes.extend(martes)\n",
    "lunes.extend(miercoles)\n",
    "print(\"Lista sin listas:\",lunes)"
   ]
  },
  {
   "cell_type": "code",
   "execution_count": 84,
   "metadata": {},
   "outputs": [
    {
     "name": "stdout",
     "output_type": "stream",
     "text": [
      "[100, 34, 56, 82]\n",
      "[99, 100, 64, 24]\n",
      "[12, 59, 100, 71]\n"
     ]
    }
   ],
   "source": [
    "lunes = [34,56,82]\n",
    "martes = [99, 64, 24]\n",
    "miercoles = [12, 59, 71]\n",
    "lunes.insert(0,100)\n",
    "martes.insert(1,100)\n",
    "miercoles.insert(2,100)\n",
    "\n",
    "print(lunes)\n",
    "print(martes)\n",
    "print(miercoles)"
   ]
  }
 ],
 "metadata": {
  "kernelspec": {
   "display_name": "base",
   "language": "python",
   "name": "python3"
  },
  "language_info": {
   "codemirror_mode": {
    "name": "ipython",
    "version": 3
   },
   "file_extension": ".py",
   "mimetype": "text/x-python",
   "name": "python",
   "nbconvert_exporter": "python",
   "pygments_lexer": "ipython3",
   "version": "3.9.13"
  },
  "orig_nbformat": 4,
  "vscode": {
   "interpreter": {
    "hash": "6e381c4e0881c19ec4405b2adff3498edf3b25f59ec2650620a337d7c4381cef"
   }
  }
 },
 "nbformat": 4,
 "nbformat_minor": 2
}
