{
 "cells": [
  {
   "attachments": {},
   "cell_type": "markdown",
   "metadata": {},
   "source": [
    "En el pair programming de hoy trabajaremos con diccionarios. El objetivo es poner en práctica todos los métodos aprendidos hasta el momento. Para ello lo primero que haremos será contruir un diccionario paso a paso. Nuestro diccionario estará compuesto por:\n",
    "Cuatro keys que serán:\n",
    "nombres\n",
    "apellidos\n",
    "edades\n",
    "hijos\n",
    "Cada una de las keys tendrá un value que será una lista que iremos construyendo con inputs. Para crear los values seguid los pasos que os indicamos a continuación.\n",
    "Cread un input que pregunte a la usuaria por tres nombres. Almacenad el resultado en una lista. Esta lista será el value de la key nombres\n",
    "Cread un input que pregunte a la usuaria por tres apellidos. Convertir el resultado en lista y este será el value de la key apellidos.\n",
    "Cread un input que pregunte a la usuaria por tres edades. Almancenad los resultados en una lista. Esta lista será el value de la key edades.\n",
    "Cread un input que pregunte a la usuaria por el número de hijos. Almacenad este resultado en una lista. Esta lista será el value de la key hijos.\n",
    "Cread un diccionario con los resultados del input. Al final de todos estos pasos deberíamos tener un diccionario similar a este:\n",
    "{'nombres': ['Lara', ' Alejandro', ' Ana'],\n",
    "  'apellidos': ['Lopez', ' Martin', ' Solo'],\n",
    "  'edades': [34, 20, 28],\n",
    "  'hijos': [2, 0, 1]}"
   ]
  },
  {
   "cell_type": "code",
   "execution_count": 9,
   "metadata": {},
   "outputs": [
    {
     "name": "stdout",
     "output_type": "stream",
     "text": [
      "{'nombres': [], 'apellidos': [], 'edades': [], 'hijos': []}\n",
      "Resultados diccionario:  {'nombres': ['Ana', 'Marcos', 'Maria'], 'apellidos': ['Perez', 'Garcia', 'Hernandez'], 'edades': [18, 19, 23], 'hijos': [2, 0, 4]}\n"
     ]
    }
   ],
   "source": [
    "diccionario= {\"nombres\":[], \"apellidos\":[],\"edades\":[],\"hijos\":[]}\n",
    "print(diccionario)\n",
    "\n",
    "#introducimos nombres\n",
    "string_nombres=input(\"Introduce 3 nombres separados por comas: \")\n",
    "lista_nombres=string_nombres.split(', ')\n",
    "diccionario[\"nombres\"]=lista_nombres\n",
    "\n",
    "\n",
    "#introducimos apellidos\n",
    "string_apellidos=input(\"Introduce 3 apellidos separados por comas: \")\n",
    "lista_apellidos=string_apellidos.split(', ')\n",
    "diccionario[\"apellidos\"]=lista_apellidos\n",
    "\n",
    "#introducimos edades\n",
    "string_edades=input(\"Introduce 3 edades separados por comas: \")\n",
    "lista_edades=string_edades.split(',')\n",
    "lista_edades[0] = int(lista_edades[0])\n",
    "lista_edades[1] = int(lista_edades[1])\n",
    "lista_edades[2] = int(lista_edades[2])\n",
    "diccionario[\"edades\"]=lista_edades\n",
    "\n",
    "#introducimos hijos\n",
    "string_hijos=input(\"Introduce el numero de hijos separados por comas: \")\n",
    "lista_hijos=string_hijos.split(',')\n",
    "lista_hijos[0] = int(lista_hijos[0])\n",
    "lista_hijos[1] = int(lista_hijos[1])\n",
    "lista_hijos[2] = int(lista_hijos[2])\n",
    "diccionario[\"hijos\"]=lista_hijos\n",
    "\n",
    "# Mostramos diccionario con los resultados\n",
    "print(\"Resultados diccionario: \",diccionario)"
   ]
  },
  {
   "attachments": {},
   "cell_type": "markdown",
   "metadata": {},
   "source": [
    "Una vez tengáis creado el diccionario, añadid una nueva key donde tengamos la información sobre el número de hermanos."
   ]
  },
  {
   "cell_type": "code",
   "execution_count": 10,
   "metadata": {},
   "outputs": [
    {
     "name": "stdout",
     "output_type": "stream",
     "text": [
      "{'nombres': ['Ana', 'Marcos', 'Maria'], 'apellidos': ['Perez', 'Garcia', 'Hernandez'], 'edades': [18, 19, 23], 'hijos': [2, 0, 4], 'numero_hermanos': []}\n"
     ]
    }
   ],
   "source": [
    "diccionario.update({\"numero_hermanos\":[]}) \n",
    "print(diccionario)"
   ]
  },
  {
   "attachments": {},
   "cell_type": "markdown",
   "metadata": {},
   "source": [
    "Una vez tengáis creado el diccionario, añadid una nueva key donde tengamos la información sobre el número de hermanos."
   ]
  },
  {
   "cell_type": "code",
   "execution_count": 11,
   "metadata": {},
   "outputs": [
    {
     "name": "stdout",
     "output_type": "stream",
     "text": [
      "dict_keys(['nombres', 'apellidos', 'edades', 'hijos', 'numero_hermanos'])\n",
      "dict_values([['Ana', 'Marcos', 'Maria'], ['Perez', 'Garcia', 'Hernandez'], [18, 19, 23], [2, 0, 4], []])\n"
     ]
    }
   ],
   "source": [
    "# mostramos las claves del diccionario\n",
    "print(diccionario.keys())\n",
    "\n",
    "# mostramos los valores del diccionario\n",
    "print(diccionario.values())"
   ]
  },
  {
   "attachments": {},
   "cell_type": "markdown",
   "metadata": {},
   "source": [
    "Para extraer los values de una key podemos hacerlo de varias formas.\n",
    "Extraed los valores de la key nombres. Utilizad dos métodos diferentes."
   ]
  },
  {
   "cell_type": "code",
   "execution_count": 12,
   "metadata": {},
   "outputs": [
    {
     "name": "stdout",
     "output_type": "stream",
     "text": [
      "['Ana', 'Marcos', 'Maria']\n",
      "['Ana', 'Marcos', 'Maria']\n"
     ]
    }
   ],
   "source": [
    "print(diccionario['nombres'])\n",
    "print(diccionario.get('nombres'))"
   ]
  },
  {
   "attachments": {},
   "cell_type": "markdown",
   "metadata": {},
   "source": [
    "Extraed los valores de la key nacionalidad. En caso de que no exista, cread esa key con el value \"desconocida\"."
   ]
  },
  {
   "cell_type": "code",
   "execution_count": 13,
   "metadata": {},
   "outputs": [
    {
     "name": "stdout",
     "output_type": "stream",
     "text": [
      "{'nombres': ['Ana', 'Marcos', 'Maria'], 'apellidos': ['Perez', 'Garcia', 'Hernandez'], 'edades': [18, 19, 23], 'hijos': [2, 0, 4], 'numero_hermanos': [], 'nacionalidad': 'desconocida'}\n"
     ]
    }
   ],
   "source": [
    "diccionario.setdefault('nacionalidad', 'desconocida')\n",
    "print(diccionario)"
   ]
  },
  {
   "cell_type": "markdown",
   "metadata": {},
   "source": [
    "Ordena los elementos del diccionario basándonos en las keys y los values. Esto nos devuelve una lista de tuplas(todavía no hemos visto este tipo de datos, pero lo veremos en la lección de mañana). Convertid esta lista de tuplas en diccionario."
   ]
  },
  {
   "cell_type": "code",
   "execution_count": 14,
   "metadata": {},
   "outputs": [
    {
     "data": {
      "text/plain": [
       "{'apellidos': ['Perez', 'Garcia', 'Hernandez'],\n",
       " 'edades': [18, 19, 23],\n",
       " 'hijos': [2, 0, 4],\n",
       " 'nacionalidad': 'desconocida',\n",
       " 'nombres': ['Ana', 'Marcos', 'Maria'],\n",
       " 'numero_hermanos': []}"
      ]
     },
     "execution_count": 14,
     "metadata": {},
     "output_type": "execute_result"
    }
   ],
   "source": [
    "# Ordenamos los valores del diccionario según las keys y lo convertimos en un diccionario\n",
    "lista_diccionario = sorted(diccionario.items())\n",
    "lista_diccionario\n",
    "\n",
    "diccionario_tuplas = dict(lista_diccionario)\n",
    "diccionario_tuplas"
   ]
  },
  {
   "cell_type": "code",
   "execution_count": 15,
   "metadata": {},
   "outputs": [
    {
     "ename": "TypeError",
     "evalue": "'<' not supported between instances of 'int' and 'str'",
     "output_type": "error",
     "traceback": [
      "\u001b[0;31m---------------------------------------------------------------------------\u001b[0m",
      "\u001b[0;31mTypeError\u001b[0m                                 Traceback (most recent call last)",
      "\u001b[0;32m/tmp/ipykernel_632/1580438171.py\u001b[0m in \u001b[0;36m<module>\u001b[0;34m\u001b[0m\n\u001b[1;32m      1\u001b[0m \u001b[0;31m# Ordenamos los valores del diccionario según los valores\u001b[0m\u001b[0;34m\u001b[0m\u001b[0;34m\u001b[0m\u001b[0m\n\u001b[0;32m----> 2\u001b[0;31m \u001b[0msorted\u001b[0m\u001b[0;34m(\u001b[0m\u001b[0mdiccionario\u001b[0m\u001b[0;34m.\u001b[0m\u001b[0mvalues\u001b[0m\u001b[0;34m(\u001b[0m\u001b[0;34m)\u001b[0m\u001b[0;34m)\u001b[0m\u001b[0;34m\u001b[0m\u001b[0;34m\u001b[0m\u001b[0m\n\u001b[0m",
      "\u001b[0;31mTypeError\u001b[0m: '<' not supported between instances of 'int' and 'str'"
     ]
    }
   ],
   "source": [
    "# Ordenamos los valores del diccionario según los valores\n",
    "sorted(diccionario.values())"
   ]
  },
  {
   "attachments": {},
   "cell_type": "markdown",
   "metadata": {},
   "source": [
    "No podemos ordenar por los valores porque son de distintos tipos."
   ]
  },
  {
   "cell_type": "code",
   "execution_count": 17,
   "metadata": {},
   "outputs": [
    {
     "name": "stdout",
     "output_type": "stream",
     "text": [
      "{'nombres': ['Ana', 'Marcos', 'Maria'], 'apellidos': ['Perez', 'Garcia', 'Hernandez'], 'edades': [18, 19, 23], 'hijos': [2, 0, 4], 'numero_hermanos': []}\n"
     ]
    }
   ],
   "source": [
    "# Eliminamos la key de nacionalidad\n",
    "diccionario.pop('nacionalidad')\n",
    "print(diccionario)"
   ]
  },
  {
   "attachments": {},
   "cell_type": "markdown",
   "metadata": {},
   "source": [
    "Utilizando métodos de Python. ¿Qué persona tiene mayor número de hijos? ¿Y quién es la más joven?"
   ]
  },
  {
   "cell_type": "code",
   "execution_count": 18,
   "metadata": {},
   "outputs": [],
   "source": [
    "max_hijos = diccionario['hijos'].index(max(diccionario['hijos']))\n",
    "min_edad = diccionario['edades'].index(min(diccionario['edades']))"
   ]
  },
  {
   "cell_type": "code",
   "execution_count": 19,
   "metadata": {},
   "outputs": [
    {
     "name": "stdout",
     "output_type": "stream",
     "text": [
      "La persona con más hijos es Maria\n",
      "La persona más joven es Ana\n"
     ]
    }
   ],
   "source": [
    "print('La persona con más hijos es', diccionario['nombres'][max_hijos])\n",
    "print('La persona más joven es', diccionario['nombres'][min_edad])"
   ]
  }
 ],
 "metadata": {
  "kernelspec": {
   "display_name": "base",
   "language": "python",
   "name": "python3"
  },
  "language_info": {
   "codemirror_mode": {
    "name": "ipython",
    "version": 3
   },
   "file_extension": ".py",
   "mimetype": "text/x-python",
   "name": "python",
   "nbconvert_exporter": "python",
   "pygments_lexer": "ipython3",
   "version": "3.9.7"
  },
  "orig_nbformat": 4,
  "vscode": {
   "interpreter": {
    "hash": "69f943ffeb1050509d23f68421eccccdbe6944938d107825421f65c9379fc2e0"
   }
  }
 },
 "nbformat": 4,
 "nbformat_minor": 2
}
