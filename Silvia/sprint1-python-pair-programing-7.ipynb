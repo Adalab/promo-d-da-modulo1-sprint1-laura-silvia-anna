{
 "cells": [
  {
   "cell_type": "code",
   "execution_count": 15,
   "metadata": {},
   "outputs": [
    {
     "name": "stdout",
     "output_type": "stream",
     "text": [
      "{'nombres': [], 'apellidos': [], 'edades': [], 'hijos': []}\n",
      "Resultados diccionario:  {'nombres': ['Ana', 'Pablo', 'María'], 'apellidos': ['Pérez', 'García', 'González'], 'edades': [12, 19, 23], 'hijos': [0, 4, 1]}\n"
     ]
    }
   ],
   "source": [
    "diccionario= {\"nombres\":[], \"apellidos\":[],\"edades\":[],\"hijos\":[]}\n",
    "print(diccionario)\n",
    "\n",
    "#introducimos nombres\n",
    "string_nombres=input(\"Introduce 3 nombres separados por comas: \")\n",
    "lista_nombres=string_nombres.split(', ')\n",
    "diccionario[\"nombres\"]=lista_nombres\n",
    "\n",
    "\n",
    "#introducimos apellidos\n",
    "string_apellidos=input(\"Introduce 3 apellidos separados por comas: \")\n",
    "lista_apellidos=string_apellidos.split(', ')\n",
    "diccionario[\"apellidos\"]=lista_apellidos\n",
    "\n",
    "#introducimos edades\n",
    "string_edades=input(\"Introduce 3 edades separados por comas: \")\n",
    "lista_edades=string_edades.split(',')\n",
    "lista_edades[0] = int(lista_edades[0])\n",
    "lista_edades[1] = int(lista_edades[1])\n",
    "lista_edades[2] = int(lista_edades[2])\n",
    "diccionario[\"edades\"]=lista_edades\n",
    "\n",
    "#introducimos hijos\n",
    "string_hijos=input(\"Introduce el numero de hijos separados por comas: \")\n",
    "lista_hijos=string_hijos.split(',')\n",
    "lista_hijos[0] = int(lista_hijos[0])\n",
    "lista_hijos[1] = int(lista_hijos[1])\n",
    "lista_hijos[2] = int(lista_hijos[2])\n",
    "diccionario[\"hijos\"]=lista_hijos\n",
    "\n",
    "# Mostramos diccionario con los resultados\n",
    "print(\"Resultados diccionario: \",diccionario)"
   ]
  },
  {
   "cell_type": "code",
   "execution_count": 16,
   "metadata": {},
   "outputs": [
    {
     "name": "stdout",
     "output_type": "stream",
     "text": [
      "{'nombres': ['Ana', 'Pablo', 'María'], 'apellidos': ['Pérez', 'García', 'González'], 'edades': [12, 19, 23], 'hijos': [0, 4, 1], 'numero_hermanos': []}\n"
     ]
    }
   ],
   "source": [
    "diccionario.update({\"numero_hermanos\":[]}) \n",
    "print(diccionario)"
   ]
  },
  {
   "cell_type": "code",
   "execution_count": 17,
   "metadata": {},
   "outputs": [
    {
     "name": "stdout",
     "output_type": "stream",
     "text": [
      "dict_keys(['nombres', 'apellidos', 'edades', 'hijos', 'numero_hermanos'])\n",
      "dict_values([['Ana', 'Pablo', 'María'], ['Pérez', 'García', 'González'], [12, 19, 23], [0, 4, 1], []])\n"
     ]
    }
   ],
   "source": [
    "# mostramos las claves del diccionario\n",
    "print(diccionario.keys())\n",
    "\n",
    "# mostramos los valores del diccionario\n",
    "print(diccionario.values())"
   ]
  },
  {
   "cell_type": "code",
   "execution_count": 18,
   "metadata": {},
   "outputs": [
    {
     "name": "stdout",
     "output_type": "stream",
     "text": [
      "{'nombres': ['Ana', 'Pablo', 'María'], 'apellidos': ['Pérez', 'García', 'González'], 'edades': [12, 19, 23], 'hijos': [0, 4, 1], 'numero_hermanos': [], 'Nacionalidad': 'desconocida'}\n"
     ]
    }
   ],
   "source": [
    "diccionario.setdefault('Nacionalidad', 'desconocida')\n",
    "print(diccionario)"
   ]
  },
  {
   "cell_type": "code",
   "execution_count": 19,
   "metadata": {},
   "outputs": [
    {
     "data": {
      "text/plain": [
       "{'Nacionalidad': 'desconocida',\n",
       " 'apellidos': ['Pérez', 'García', 'González'],\n",
       " 'edades': [12, 19, 23],\n",
       " 'hijos': [0, 4, 1],\n",
       " 'nombres': ['Ana', 'Pablo', 'María'],\n",
       " 'numero_hermanos': []}"
      ]
     },
     "execution_count": 19,
     "metadata": {},
     "output_type": "execute_result"
    }
   ],
   "source": [
    "# Ordenamos los valores del diccionario según las keys y lo convertimos en un diccionario\n",
    "lista_diccionario = sorted(diccionario.items())\n",
    "lista_diccionario\n",
    "\n",
    "diccionario_tuplas = dict(lista_diccionario)\n",
    "diccionario_tuplas"
   ]
  },
  {
   "cell_type": "code",
   "execution_count": 20,
   "metadata": {},
   "outputs": [
    {
     "ename": "TypeError",
     "evalue": "'<' not supported between instances of 'int' and 'str'",
     "output_type": "error",
     "traceback": [
      "\u001b[0;31m---------------------------------------------------------------------------\u001b[0m",
      "\u001b[0;31mTypeError\u001b[0m                                 Traceback (most recent call last)",
      "\u001b[0;32m/tmp/ipykernel_279/1580438171.py\u001b[0m in \u001b[0;36m<module>\u001b[0;34m\u001b[0m\n\u001b[1;32m      1\u001b[0m \u001b[0;31m# Ordenamos los valores del diccionario según los valores\u001b[0m\u001b[0;34m\u001b[0m\u001b[0;34m\u001b[0m\u001b[0m\n\u001b[0;32m----> 2\u001b[0;31m \u001b[0msorted\u001b[0m\u001b[0;34m(\u001b[0m\u001b[0mdiccionario\u001b[0m\u001b[0;34m.\u001b[0m\u001b[0mvalues\u001b[0m\u001b[0;34m(\u001b[0m\u001b[0;34m)\u001b[0m\u001b[0;34m)\u001b[0m\u001b[0;34m\u001b[0m\u001b[0;34m\u001b[0m\u001b[0m\n\u001b[0m",
      "\u001b[0;31mTypeError\u001b[0m: '<' not supported between instances of 'int' and 'str'"
     ]
    }
   ],
   "source": [
    "# Ordenamos los valores del diccionario según los valores\n",
    "sorted(diccionario.values())"
   ]
  },
  {
   "attachments": {},
   "cell_type": "markdown",
   "metadata": {},
   "source": [
    "No podemos ordenar por los valores porque son de distintos tipos."
   ]
  },
  {
   "cell_type": "code",
   "execution_count": 21,
   "metadata": {},
   "outputs": [
    {
     "name": "stdout",
     "output_type": "stream",
     "text": [
      "{'nombres': ['Ana', 'Pablo', 'María'], 'apellidos': ['Pérez', 'García', 'González'], 'edades': [12, 19, 23], 'hijos': [0, 4, 1], 'numero_hermanos': []}\n"
     ]
    }
   ],
   "source": [
    "# Eliminamos la key de nacionalidad\n",
    "diccionario.pop('Nacionalidad')\n",
    "print(diccionario)"
   ]
  },
  {
   "cell_type": "code",
   "execution_count": 22,
   "metadata": {},
   "outputs": [],
   "source": [
    "max_hijos = diccionario['hijos'].index(max(diccionario['hijos']))\n",
    "min_edad = diccionario['edades'].index(min(diccionario['edades']))"
   ]
  },
  {
   "cell_type": "code",
   "execution_count": 23,
   "metadata": {},
   "outputs": [
    {
     "name": "stdout",
     "output_type": "stream",
     "text": [
      "La persona con más hijos es Pablo\n",
      "La persona más joven es Ana\n"
     ]
    }
   ],
   "source": [
    "print('La persona con más hijos es', diccionario['nombres'][max_hijos])\n",
    "print('La persona más joven es', diccionario['nombres'][min_edad])"
   ]
  }
 ],
 "metadata": {
  "kernelspec": {
   "display_name": "base",
   "language": "python",
   "name": "python3"
  },
  "language_info": {
   "codemirror_mode": {
    "name": "ipython",
    "version": 3
   },
   "file_extension": ".py",
   "mimetype": "text/x-python",
   "name": "python",
   "nbconvert_exporter": "python",
   "pygments_lexer": "ipython3",
   "version": "3.9.7"
  },
  "orig_nbformat": 4,
  "vscode": {
   "interpreter": {
    "hash": "69f943ffeb1050509d23f68421eccccdbe6944938d107825421f65c9379fc2e0"
   }
  }
 },
 "nbformat": 4,
 "nbformat_minor": 2
}
