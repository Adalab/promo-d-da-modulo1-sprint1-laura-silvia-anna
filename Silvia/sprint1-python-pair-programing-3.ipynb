{
 "cells": [
  {
   "cell_type": "code",
   "execution_count": 1,
   "metadata": {},
   "outputs": [
    {
     "name": "stdout",
     "output_type": "stream",
     "text": [
      "Dime nombres de 3 amigos:\n"
     ]
    },
    {
     "data": {
      "text/plain": [
       "['Irene,', 'Ana,', 'Clara']"
      ]
     },
     "execution_count": 1,
     "metadata": {},
     "output_type": "execute_result"
    }
   ],
   "source": [
    "nombres = input(print('Dime nombres de 3 amigos:'))\n",
    "nombres = nombres.split()\n",
    "nombres"
   ]
  },
  {
   "cell_type": "code",
   "execution_count": 2,
   "metadata": {},
   "outputs": [
    {
     "name": "stdout",
     "output_type": "stream",
     "text": [
      "Dime cuanto miden tus amigos;\n"
     ]
    },
    {
     "data": {
      "text/plain": [
       "[1.7, 1.58, 1.72]"
      ]
     },
     "execution_count": 2,
     "metadata": {},
     "output_type": "execute_result"
    }
   ],
   "source": [
    "lista_alturas = input(print('Dime cuanto miden tus amigos;'))\n",
    "lista_alturas = lista_alturas.split(',')\n",
    "lista_alturas\n",
    "\n",
    "lista_alturas = [float(i) for i in lista_alturas]\n",
    "lista_alturas"
   ]
  },
  {
   "cell_type": "code",
   "execution_count": null,
   "metadata": {},
   "outputs": [],
   "source": [
    "nombres.sort(reverse=True)\n",
    "lista_alturas.sort(reverse=True)\n",
    "print (\"Nombres ordenados:\",nombres)\n",
    "print (\"Alturas ordenados:\",lista_alturas)\n",
    "\n",
    "print (\"La altura maxima es:\", max(lista_alturas))\n",
    "print (\"La altura minima es:\", min(lista_alturas))"
   ]
  },
  {
   "cell_type": "code",
   "execution_count": 4,
   "metadata": {},
   "outputs": [],
   "source": [
    "lista1 = [44, 55, 67, 44, 98, 29]\n",
    "lista2 = [34, 56, 56, 78, 67, 56]"
   ]
  },
  {
   "cell_type": "code",
   "execution_count": 7,
   "metadata": {},
   "outputs": [
    {
     "name": "stdout",
     "output_type": "stream",
     "text": [
      "[[44, 55, 67, 44, 98, 29], [34, 56, 56, 78, 67, 56]]\n"
     ]
    }
   ],
   "source": [
    "lista_lista = [lista1, lista2]\n",
    "print(lista_lista)"
   ]
  },
  {
   "cell_type": "code",
   "execution_count": 8,
   "metadata": {},
   "outputs": [
    {
     "name": "stdout",
     "output_type": "stream",
     "text": [
      "[44, 55, 67, 44, 98, 29, 34, 56, 56, 78, 67, 56]\n"
     ]
    }
   ],
   "source": [
    "lista_numeros = lista1 + lista2\n",
    "print(lista_numeros)"
   ]
  },
  {
   "cell_type": "code",
   "execution_count": null,
   "metadata": {},
   "outputs": [],
   "source": [
    "print(lista_lista.count(67))\n",
    "print(lista_numeros.count(67))\n",
    "\n",
    "#En la lista_lista solo hay dos elementos, lista1 y lista2, mientras que en lista_numeros los elementos son los números, \n",
    "#donde sí aparece 67"
   ]
  },
  {
   "cell_type": "code",
   "execution_count": 15,
   "metadata": {},
   "outputs": [
    {
     "data": {
      "text/plain": [
       "[56, 67, 78, 56, 56, 34, 29, 98, 44, 67, 55, 44]"
      ]
     },
     "execution_count": 15,
     "metadata": {},
     "output_type": "execute_result"
    }
   ],
   "source": [
    "lista_numeros.reverse()\n",
    "lista_numeros"
   ]
  }
 ],
 "metadata": {
  "kernelspec": {
   "display_name": "Python 3",
   "language": "python",
   "name": "python3"
  },
  "language_info": {
   "codemirror_mode": {
    "name": "ipython",
    "version": 3
   },
   "file_extension": ".py",
   "mimetype": "text/x-python",
   "name": "python",
   "nbconvert_exporter": "python",
   "pygments_lexer": "ipython3",
   "version": "3.10.6"
  },
  "orig_nbformat": 4,
  "vscode": {
   "interpreter": {
    "hash": "916dbcbb3f70747c44a77c7bcd40155683ae19c65e1c03b4aa3499c5328201f1"
   }
  }
 },
 "nbformat": 4,
 "nbformat_minor": 2
}
