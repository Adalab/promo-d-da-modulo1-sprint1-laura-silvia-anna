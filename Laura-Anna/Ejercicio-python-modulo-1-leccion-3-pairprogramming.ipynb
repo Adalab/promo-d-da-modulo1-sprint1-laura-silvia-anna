{
 "cells": [
  {
   "attachments": {},
   "cell_type": "markdown",
   "metadata": {},
   "source": [
    "1. Cread una lista con 10 números aleatorios entre el 0 y el 100. \n",
    "\n",
    "\n",
    "   \n",
    "   Para esto tendréis que ejecutar el siguiente código:"
   ]
  },
  {
   "cell_type": "code",
   "execution_count": 17,
   "metadata": {},
   "outputs": [
    {
     "ename": "TypeError",
     "evalue": "Random.sample() missing 2 required positional arguments: 'population' and 'k'",
     "output_type": "error",
     "traceback": [
      "\u001b[0;31m---------------------------------------------------------------------------\u001b[0m",
      "\u001b[0;31mTypeError\u001b[0m                                 Traceback (most recent call last)",
      "Cell \u001b[0;32mIn[17], line 6\u001b[0m\n\u001b[1;32m      2\u001b[0m lista \u001b[39m=\u001b[39m random\u001b[39m.\u001b[39msample(\u001b[39mrange\u001b[39m(\u001b[39m1\u001b[39m,\u001b[39m100\u001b[39m), \u001b[39m10\u001b[39m)\n\u001b[1;32m      4\u001b[0m \u001b[39m# Este código no tenemos por que entenderlo. En este código veremos un par de cosas que no sabemos que son:\u001b[39;00m\n\u001b[0;32m----> 6\u001b[0m random\u001b[39m.\u001b[39;49msample()\n\u001b[1;32m      7\u001b[0m \u001b[39mrange\u001b[39m()\n",
      "\u001b[0;31mTypeError\u001b[0m: Random.sample() missing 2 required positional arguments: 'population' and 'k'"
     ]
    }
   ],
   "source": [
    "import random\n",
    "lista = random.sample(range(1,100), 10)\n",
    "\n",
    "# Este código no tenemos por que entenderlo. En este código veremos un par de cosas que no sabemos que son:\n",
    "\n",
    "random.sample()\n",
    "range()"
   ]
  },
  {
   "cell_type": "code",
   "execution_count": 18,
   "metadata": {},
   "outputs": [
    {
     "name": "stdout",
     "output_type": "stream",
     "text": [
      "[34, 97, 48, 83, 7, 76, 71, 52, 21, 39]\n"
     ]
    }
   ],
   "source": [
    "import random\n",
    "lista = random.sample(range(1,100), 10)\n",
    "\n",
    "print(lista)\n",
    "\n"
   ]
  },
  {
   "attachments": {},
   "cell_type": "markdown",
   "metadata": {},
   "source": [
    "Con la lista creada en el ejercicio anterior:\n",
    "\n",
    "📌 Nota: cuando os preguntamos el elemento que esta en la tercera posición nos referimos a la posición \"humana\", es decir, dada la siguiente lista:"
   ]
  },
  {
   "cell_type": "code",
   "execution_count": 3,
   "metadata": {},
   "outputs": [],
   "source": [
    "ejemplo = [4,6,2,7,9,0]\n",
    "\n",
    "# si os pedimos el número que esta en tercera posición el resultado deberá ser \"2\"\n",
    "\n",
    "# si os pedimos el número que esta en primera posición deberá ser \"4\""
   ]
  },
  {
   "attachments": {},
   "cell_type": "markdown",
   "metadata": {},
   "source": [
    "- ¿Cuál es la longitud de la lista? Utilizad métodos de Python para extraer este resultado.\n",
    "   \n",
    "- Extraed el número que está en la tercera posición. Recordad que los índices en Python empiezan en 0 y que no corresponden con las \"posiciones humanas\"\n",
    "   \n",
    "- Extraed el número que esta en la tercera posición utilizando los índices negativos.\n",
    "   \n",
    "- Preguntad al usuario por un número de la lista que hemos creado en el primer paso, recordad que para eso tendréis que usar la función input. ¿En que posición esta el número que ha eligido la usuaria?\n",
    "   \n",
    "- Extraed los valores que estén entre la tercera posición y la quinta (ambos inclusive). Esto nos tendrá que devolver una lista de 3 elementos.\n",
    "   \n",
    "- Extraed los valores que estén entre las posiciones 6 y 9 utilizando índices negativos. Os debe devolver una lista con 4 números.\n",
    "   \n",
    "- ¿Cuáles son los numéros que están en las posiciones pares nuestra lista?\n",
    "   \n",
    "-  ¿Y los que están en posiciones impares?\n",
    "\n",
    "\n"
   ]
  },
  {
   "cell_type": "code",
   "execution_count": 43,
   "metadata": {},
   "outputs": [
    {
     "name": "stdout",
     "output_type": "stream",
     "text": [
      "10\n",
      "48\n",
      "48\n",
      "Entre estos numeros: [34, 97, 48, 83, 7, 76, 71, 52, 21, 39], elige uno: 83\n",
      "3\n",
      "[48, 83, 7]\n",
      "[76, 71, 52, 21]\n",
      "[97, 83, 76, 52, 39]\n",
      "[34, 48, 7, 71, 21]\n"
     ]
    }
   ],
   "source": [
    "\n",
    "# ¿Cuál es la longitud de la lista? Utilizad métodos de Python para extraer este resultado.\n",
    "\n",
    "print(len(lista))\n",
    "\n",
    "# Extraed el número que está en la tercera posición. Recordad que los índices en Python empiezan en 0 y que no corresponden con las \"posiciones humanas\"\n",
    "   \n",
    "print(lista[2])\n",
    "\n",
    "# Extraed el número que esta en la tercera posición utilizando los índices negativos.\n",
    "\n",
    "print(lista[-8])\n",
    "\n",
    "# Preguntad al usuario por un número de la lista que hemos creado en el primer paso, recordad que para eso tendréis que usar la función input. \n",
    "# ¿En que posición esta el número que ha eligido la usuaria?\n",
    "\n",
    "numero_elegido = input(\"Entre estos numeros: [34, 97, 48, 83, 7, 76, 71, 52, 21, 39], elige uno:\")\n",
    "\n",
    "print(\"Entre estos numeros: [34, 97, 48, 83, 7, 76, 71, 52, 21, 39], elige uno: \" + numero_elegido)\n",
    "\n",
    "print(lista.index(83))\n",
    "\n",
    "# Extraed los valores que estén entre la tercera posición y la quinta (ambos inclusive). \n",
    "# Esto nos tendrá que devolver una lista de 3 elementos.\n",
    "\n",
    "\n",
    "print(lista[2:5])\n",
    "\n",
    "# Extraed los valores que estén entre las posiciones 6 y 9 utilizando índices negativos. \n",
    "# Os debe devolver una lista con 4 números.\n",
    "\n",
    "print(lista[-5:-1])\n",
    "\n",
    "# ¿Cuáles son los numéros que están en las posiciones pares nuestra lista?\n",
    "\n",
    "print(lista[1::2])\n",
    "\n",
    "# ¿Y los que están en posiciones impares?\n",
    "\n",
    "print(lista[::2])\n",
    "\n",
    "\n"
   ]
  },
  {
   "attachments": {},
   "cell_type": "markdown",
   "metadata": {},
   "source": [
    "2. Dadas las siguientes listas:"
   ]
  },
  {
   "attachments": {},
   "cell_type": "markdown",
   "metadata": {},
   "source": [
    "\n",
    "- ¿Qué nota ha sacado Lupe? Para este ejercicio os pedimos que uséis primero el método index() de listas y luego lo índices con [] de las listas. Para esto tendréis que sacar primero en que posición esta Lupe en la lista nombres y usar el resultado de este paso para acceder ,usando los índices de Python, a la nota de Lupe.\n",
    "  \n",
    "- De la misma forma, ¿qué alumna a sacado la nota más alta? Tendréis que poner en práctica, métodos aprendidos hoy y en la lección de listas de ayer.\n",
    "  \n",
    "- ¿Qué alumna a sacado la nota más baja? ¿Es esta nota mayor que 5?\n",
    "  \n",
    "- Ordenad la lista de notas de mayor a menor y almacenalo en una nueva variable llamada notas_nuevo_orden\n",
    "  \n",
    "- Ordenad las notas de las alumnas de mayor a menor. Usa el método que sobreescriba la variable notas.\n",
    "  \n",
    "- Ordenad la lista de nombres de mayor a menor. ¿Qué es lo que ha pasado?\n",
    "  \n",
    "- Borrad la lista de notas."
   ]
  },
  {
   "cell_type": "code",
   "execution_count": 66,
   "metadata": {},
   "outputs": [
    {
     "name": "stdout",
     "output_type": "stream",
     "text": [
      "2\n",
      "9.8\n",
      "9.8\n",
      "2\n",
      "Lupe\n",
      "8.5\n",
      "1\n",
      "Lorena\n",
      "[9, 8.5, 9.8, 8.9, 9.2]\n"
     ]
    },
    {
     "data": {
      "text/plain": [
       "[8.5, 8.9, 9, 9.2, 9.8]"
      ]
     },
     "execution_count": 66,
     "metadata": {},
     "output_type": "execute_result"
    }
   ],
   "source": [
    "# ¿Qué nota ha sacado Lupe? Para este ejercicio os pedimos que uséis primero el método index() de listas y luego lo índices con [] de las listas. Para esto tendréis que sacar primero en que posición esta Lupe en la lista nombres y usar el \n",
    "# resultado de este paso para acceder ,usando los índices de Python, a la nota de Lupe.\n",
    "\n",
    "nombres = [\"Laura\", \"Lorena\", \"Lupe\", \"Loreto\", \"Lucía\"]\n",
    "\n",
    "notas = [9, 8.5, 9.8, 8.9, 9.2]\n",
    "\n",
    "print(nombres.index(\"Lupe\"))\n",
    "\n",
    "print(notas[2])\n",
    "\n",
    "# De la misma forma, ¿qué alumna a sacado la nota más alta? \n",
    "# Tendréis que poner en práctica, métodos aprendidos hoy y en la lección de listas de ayer.\n",
    "\n",
    "nota_max = max(notas)\n",
    "\n",
    "print(nota_max)\n",
    "\n",
    "print(notas.index(9.8))\n",
    "\n",
    "print(nombres[2])\n",
    "\n",
    "# ¿Qué alumna a sacado la nota más baja? ¿Es esta nota mayor que 5?\n",
    "  \n",
    "nota_min = min(notas)\n",
    "\n",
    "print(nota_min)\n",
    "\n",
    "print(notas.index(8.5))\n",
    "\n",
    "print(nombres[1])\n",
    "\n",
    "# Ordenad la lista de notas de mayor a menor y almacenalo en una nueva \n",
    "# variable llamada notas_nuevo_orden\n",
    "\n",
    "ordenada = notas.copy()\n",
    "\n",
    "print(ordenada)\n",
    "\n",
    "ordenada.sort()\n",
    "\n",
    "ordenada\n",
    "\n"
   ]
  },
  {
   "attachments": {},
   "cell_type": "markdown",
   "metadata": {},
   "source": [
    "3. Dadas las siguientes listas:"
   ]
  },
  {
   "cell_type": "code",
   "execution_count": 69,
   "metadata": {},
   "outputs": [],
   "source": [
    "lunes = [34,56,82]\n",
    "martes = [99, 64, 24]\n",
    "miercoles = [12, 59, 71]"
   ]
  },
  {
   "attachments": {},
   "cell_type": "markdown",
   "metadata": {},
   "source": [
    "- Unid las tres listas de forma que tengamos el siguiente output\n",
    "\n",
    "    [34, 56, 82, [99, 64, 24], [12, 59, 71]]\n",
    "\n",
    "- Definid de nuevo la tres listas. Ahora unid las tres listas de tal forma que obtengamos el siguiente output:\n",
    "  \n",
    "    [34, 56, 82, 99, 64, 24, 12, 59, 71]\n",
    "\n",
    "- Definid de nuevo las tres listas. Insertad los siguientes valores:\n",
    "  \n",
    "    - En la lista lunes un 100 en la primera posición\n",
    "    - En la lista martes un 100 en la tercera posición\n",
    "    - En la lista miercoles un 100 en la última posición\n"
   ]
  },
  {
   "cell_type": "code",
   "execution_count": 89,
   "metadata": {},
   "outputs": [
    {
     "name": "stdout",
     "output_type": "stream",
     "text": [
      "['34,56,82', ['99, 64, 24'], ['12, 59, 71']]\n"
     ]
    }
   ],
   "source": [
    "# Unid las tres listas de forma que tengamos el siguiente output\n",
    "\n",
    "lunes = [\"34,56,82\"]\n",
    "martes = [\"99, 64, 24\"]\n",
    "miercoles = [\"12, 59, 71\"]\n",
    " \n",
    "lunes.append(martes)\n",
    "\n",
    "\n",
    "lunes.append(miercoles)\n",
    "\n",
    "print(lunes)\n",
    "\n",
    "\n"
   ]
  },
  {
   "cell_type": "code",
   "execution_count": 95,
   "metadata": {},
   "outputs": [
    {
     "name": "stdout",
     "output_type": "stream",
     "text": [
      "[34, 56, 82, 99, 64, 24, 12, 59, 71]\n"
     ]
    }
   ],
   "source": [
    "# Definid de nuevo la tres listas. \n",
    "# Ahora unid las tres listas de tal forma que obtengamos el siguiente output:\n",
    "\n",
    "lunes = [34,56,82]\n",
    "martes = [99, 64, 24]\n",
    "miercoles = [12, 59, 71]\n",
    "\n",
    "lunes.extend(martes)\n",
    "\n",
    "lunes.extend(miercoles)\n",
    "\n",
    "print(lunes)\n",
    "\n",
    "\n"
   ]
  },
  {
   "cell_type": "code",
   "execution_count": 105,
   "metadata": {},
   "outputs": [
    {
     "name": "stdout",
     "output_type": "stream",
     "text": [
      "['100', '34', '56', '82']\n",
      "['99', '64', '24', '100']\n",
      "['12', '59', '100', '71']\n"
     ]
    }
   ],
   "source": [
    "# - Definid de nuevo las tres listas. Insertad los siguientes valores: \n",
    "\n",
    "\n",
    "lunes = [\"34\", \"56\", \"82\"]\n",
    "martes = [\"99\", \"64\", \"24\"]\n",
    "miercoles = [\"12\", \"59\", \"71\"]\n",
    "\n",
    "lunes.insert(0, \"100\")\n",
    "\n",
    "martes.insert(3, \"100\")\n",
    "\n",
    "miercoles.insert(2, \"100\")\n",
    "\n",
    "\n",
    "# En la lista lunes un 100 en la primera posición\n",
    "\n",
    "print(lunes)\n",
    "\n",
    "# En la lista martes un 100 en la tercera posición\n",
    "\n",
    "print(martes)\n",
    "\n",
    "# En la lista miercoles un 100 en la última posición\n",
    "\n",
    "print(miercoles)\n",
    "\n"
   ]
  }
 ],
 "metadata": {
  "kernelspec": {
   "display_name": "Python 3",
   "language": "python",
   "name": "python3"
  },
  "language_info": {
   "codemirror_mode": {
    "name": "ipython",
    "version": 3
   },
   "file_extension": ".py",
   "mimetype": "text/x-python",
   "name": "python",
   "nbconvert_exporter": "python",
   "pygments_lexer": "ipython3",
   "version": "3.11.0 (v3.11.0:deaf509e8f, Oct 24 2022, 14:43:23) [Clang 13.0.0 (clang-1300.0.29.30)]"
  },
  "orig_nbformat": 4,
  "vscode": {
   "interpreter": {
    "hash": "aee8b7b246df8f9039afb4144a1f6fd8d2ca17a180786b69acc140d282b71a49"
   }
  }
 },
 "nbformat": 4,
 "nbformat_minor": 2
}
