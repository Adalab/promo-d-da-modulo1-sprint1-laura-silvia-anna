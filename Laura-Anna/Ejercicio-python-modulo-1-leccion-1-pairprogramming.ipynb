{
 "cells": [
  {
   "attachments": {},
   "cell_type": "markdown",
   "metadata": {},
   "source": [
    "1. Cread tres variables numéricas de tipo integer (entero), llamadas de la siguiente forma:\n",
    "\n",
    "- numero1\n",
    "- numero2\n",
    "- numero3"
   ]
  },
  {
   "cell_type": "code",
   "execution_count": 2,
   "metadata": {},
   "outputs": [],
   "source": [
    "# crear tres integer\n",
    "\n",
    "numero_1 = 1\n",
    "\n",
    "numero_2 = 2\n",
    "\n",
    "numero_3 = 3"
   ]
  },
  {
   "attachments": {},
   "cell_type": "markdown",
   "metadata": {},
   "source": [
    "2. Utilizando los operadores lógicos:\n",
    "\n",
    "- En vuestro caso, es el numero1 mayor que el numero2\n",
    "- Es el numero1 menor que el numero2 pero mayor que el numero3\n",
    "- Es el numero3 igual que el numero2\n",
    "- Es el numero2 distinto que el numero1"
   ]
  },
  {
   "cell_type": "code",
   "execution_count": 9,
   "metadata": {},
   "outputs": [
    {
     "name": "stdout",
     "output_type": "stream",
     "text": [
      "False True False True True\n"
     ]
    }
   ],
   "source": [
    "# operadores logicos\n",
    "\n",
    "a = numero_1 > numero_2\n",
    "\n",
    "b = numero_1 < numero_2 \n",
    "\n",
    "c = numero_2 > numero_3\n",
    "\n",
    "d = numero_3 != numero_2\n",
    "\n",
    "e = numero_2 != numero_1\n",
    "\n",
    "print(a, b, c, d, e)\n",
    "\n"
   ]
  },
  {
   "attachments": {},
   "cell_type": "markdown",
   "metadata": {},
   "source": [
    "3. Utilizando los operadores matemáticos aprendidos en la lección:\n",
    "   \n",
    "- Cuál es la suma de las dos alturas\n",
    "- Cuál es la diferencia entre las alturas\n",
    "- Cuál es el resto de la división de las dos alturas\n",
    "- Cuál es resultado de la división de las dos alturas, redondead el resultado a un decimal."
   ]
  },
  {
   "cell_type": "code",
   "execution_count": 9,
   "metadata": {},
   "outputs": [
    {
     "name": "stdout",
     "output_type": "stream",
     "text": [
      "3.33\n",
      "0.07000000000000006\n",
      "0.07000000000000006\n",
      "1.0\n"
     ]
    }
   ],
   "source": [
    "# operaciones float\n",
    "\n",
    "altura_1 = 1.63\n",
    "\n",
    "altura_2 = 1.70\n",
    "\n",
    "\n",
    "division_1 = altura_2 / altura_1\n",
    "\n",
    "\n",
    "\n",
    "print(altura_1 + altura_2)\n",
    "\n",
    "print(altura_2 - altura_1)\n",
    "\n",
    "print(altura_2 % altura_1) # revisar formula\n",
    "\n",
    "print(round(division_1,1)) # preguntarles si el enunciado pide un número decimal (float) o un decimal después del punto.\n",
    "\n",
    "\n"
   ]
  },
  {
   "attachments": {},
   "cell_type": "markdown",
   "metadata": {},
   "source": [
    "4. Escribid un programa usando la función input() que le pregunte al usuario su nombre y apellidos. Una vez que tengamos el nombre del usuario:\n",
    "- Printead su nombre y apellidos todo en mayúsculas\n",
    "- Printead su nombre y apellidos todo en minúsculas\n",
    "- Printead su nombre y apellidos con la primera letra del nombre y los apellidos en mayúscula y el resto en minúscula.\n",
    "- Printeas solo la primera letra del nombre en mayúscula."
   ]
  },
  {
   "cell_type": "code",
   "execution_count": 54,
   "metadata": {},
   "outputs": [
    {
     "name": "stdout",
     "output_type": "stream",
     "text": [
      "¿Cual es tu nombre y apellido? ANA MADRID\n",
      "¿Cual es tu nombre y apellido? ana madrid\n",
      "¿Cual es tu nombre y apellido? Ana Madrid\n",
      "¿Cual es tu nombre y apellido? Ana madrid\n"
     ]
    }
   ],
   "source": [
    "# funcion input\n",
    "\n",
    "nombre_apellido_may = input()\n",
    "\n",
    "print(\"¿Cual es tu nombre y apellido?\", nombre_apellido_may)\n",
    "\n",
    "nombre_apellido_min = input()\n",
    "\n",
    "print(\"¿Cual es tu nombre y apellido?\",nombre_apellido_min)\n",
    "\n",
    "nombre_apellido_cap = input()\n",
    "\n",
    "print(\"¿Cual es tu nombre y apellido?\",nombre_apellido_cap)\n",
    "\n",
    "nombre_apellido_cappri = input()\n",
    "\n",
    "print(\"¿Cual es tu nombre y apellido?\",nombre_apellido_cappri)\n",
    "\n",
    "\n",
    "\n",
    "\n",
    "\n",
    "\n",
    "\n"
   ]
  },
  {
   "cell_type": "code",
   "execution_count": 58,
   "metadata": {},
   "outputs": [
    {
     "name": "stdout",
     "output_type": "stream",
     "text": [
      "¿Cual es tu nombre y apellido? ANA MADRID , ana madrid , Ana Madrid , Ana madrid\n"
     ]
    }
   ],
   "source": [
    "# ALTERNATIVA: Print de todas las respuestas en la misma línea \n",
    "\n",
    "nombre_apellido_may = input()\n",
    "\n",
    "nombre_apellido_min = input()\n",
    "\n",
    "nombre_apellido_cap = input()\n",
    "\n",
    "nombre_apellido_cappri = input()\n",
    "\n",
    "print(\"¿Cual es tu nombre y apellido?\", nombre_apellido_may,\",\", nombre_apellido_min,\",\", nombre_apellido_cap,\",\", nombre_apellido_cappri)\n"
   ]
  },
  {
   "attachments": {},
   "cell_type": "markdown",
   "metadata": {},
   "source": [
    "5. Escribid un programa usando la función input() que:\n",
    "- Le pregunte al usuario por una frase, almacenad este resultado en una variable.\n",
    "- Le pregunte al usuario por una vocal, almacenad este resultado en una variable.\n",
    "- Printead la misma frase pero con la vocal introducida en mayúsulas."
   ]
  },
  {
   "cell_type": "code",
   "execution_count": 52,
   "metadata": {},
   "outputs": [
    {
     "name": "stdout",
     "output_type": "stream",
     "text": [
      "¿Cual és tu nacionalidad? Italiana\n",
      "¿Cual és la vocal de mamá?  a\n",
      "¿Cual és la vocal de mamá?  A\n"
     ]
    }
   ],
   "source": [
    "\n",
    "\n",
    "nacionalidad = input()\n",
    "\n",
    "print(\"¿Cual és tu nacionalidad?\", nacionalidad)\n",
    "\n",
    "vocal = input()\n",
    "\n",
    "print(\"¿Cual és la vocal de mamá? \", vocal)\n",
    "\n",
    "vocal_may = input()\n",
    "\n",
    "print(\"¿Cual és la vocal de mamá? \", vocal_may)\n",
    "\n",
    "\n",
    "\n",
    "\n",
    "\n",
    "\n",
    "\n"
   ]
  },
  {
   "attachments": {},
   "cell_type": "markdown",
   "metadata": {},
   "source": [
    "6. Escribid un programa usando la función input() que:\n",
    "- Le pregunte al usuario por la lista de la compra, separando cada elemento por comas.\n",
    "- Devolved la lista de compra donde veamos cada elemento en una línea.\n",
    "  \n",
    "  💡Pista\n",
    "- Para indicar salto de línea usaremos \"\\n\".\n",
    "- Deberéis usar el método join de los strings"
   ]
  },
  {
   "cell_type": "code",
   "execution_count": 2,
   "metadata": {},
   "outputs": [
    {
     "name": "stdout",
     "output_type": "stream",
     "text": [
      "manzanas\n",
      " peras\n",
      " pan\n"
     ]
    }
   ],
   "source": [
    "compras = input(\"Dáme una lista de compras separada por comas:\").split(\",\")\n",
    "\n",
    "lista_compras_1 = \"\\n\".join(compras)\n",
    "\n",
    "\n",
    "print(lista_compras_1)\n",
    "\n",
    "\n",
    "\n",
    "\n",
    "\n",
    "\n"
   ]
  }
 ],
 "metadata": {
  "kernelspec": {
   "display_name": "Python 3",
   "language": "python",
   "name": "python3"
  },
  "language_info": {
   "codemirror_mode": {
    "name": "ipython",
    "version": 3
   },
   "file_extension": ".py",
   "mimetype": "text/x-python",
   "name": "python",
   "nbconvert_exporter": "python",
   "pygments_lexer": "ipython3",
   "version": "3.11.0"
  },
  "orig_nbformat": 4,
  "vscode": {
   "interpreter": {
    "hash": "aee8b7b246df8f9039afb4144a1f6fd8d2ca17a180786b69acc140d282b71a49"
   }
  }
 },
 "nbformat": 4,
 "nbformat_minor": 2
}
