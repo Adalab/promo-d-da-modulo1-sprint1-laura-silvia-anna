{
 "cells": [
  {
   "attachments": {},
   "cell_type": "markdown",
   "metadata": {},
   "source": [
    "1. A lo largo de este pair programming os presentamos una serie de ejercicios que los tendréis que resolver usando sentencias if, if ... else, if ... elif ... else o while.\n",
    "En la escuela donde trabajamos tienen el siguiente sistema de notas:\n",
    "- Below 25 - F\n",
    "- 25 to 45 - E\n",
    "- 45 to 50 - D\n",
    "- 50 to 60 - C\n",
    "- 60 to 80 - B\n",
    "- Above 80 - A\n",
    "El objetivo de este ejercicio es que le preguntéis al usuario por una nota (numérica) y nosotros le devolvamos la nota con la letra que le corresponde."
   ]
  },
  {
   "cell_type": "code",
   "execution_count": null,
   "metadata": {},
   "outputs": [],
   "source": [
    "# 1.\n",
    "#En la escuela donde trabajamos tienen el siguiente sistema de notas:\n",
    "#- Below 25 - F\n",
    "#- 25 to 45 - E\n",
    "#- 45 to 50 - D\n",
    "#- 50 to 60 - C\n",
    "#- 60 to 80 - B\n",
    "#- Above 80 - A\n",
    "#El objetivo de este ejercicio es que le preguntéis al usuario por una nota (numérica) \n",
    "# y nosotros le devolvamos la nota con la letra que le corresponde.\n",
    "\n",
    "notas = int(input('Dime qué nota sacaste en el exámen'))\n",
    "print(notas)\n",
    "\n",
    "if notas < 25: \n",
    "    print('Tu nota es una F')\n",
    "if notas >= 25 and notas <= 45:\n",
    "    print('Tu nota es una E')\n",
    "if notas >=   45 and notas <=  50:\n",
    "    print('Tu nota es una D')\n",
    "if notas >=   50 and notas <= 60:\n",
    "    print('Tu nota es una C')\n",
    "if notas >= 60 and notas <= 80:\n",
    "    print('Tu nota es una B')\n",
    "if notas >= 80 and notas >= 100:\n",
    "    print('Tu nota es una A')"
   ]
  },
  {
   "attachments": {},
   "cell_type": "markdown",
   "metadata": {},
   "source": [
    "2. Cread tres inputs donde a cada uno de ellos le preguntéis su edad, el objetivo del ejercicio es determinar quien es el más viejo y el más joven."
   ]
  },
  {
   "cell_type": "code",
   "execution_count": null,
   "metadata": {},
   "outputs": [],
   "source": [
    "edad1 = int(input('Dime tu edad'))\n",
    "edad2 = int(input('Dime tu edad'))\n",
    "edad3 = int(input('Dime tu edad'))\n",
    "\n",
    "if edad1 > edad2 and edad1 > edad3 :\n",
    "    print('El mayor es el primero de vosotros')\n",
    "\n",
    "elif edad2 > edad1 and edad2 > edad3 :\n",
    "    print('El mayor es el segundo de vosotros')\n",
    "else:\n",
    "    print('El mayor es el tercero de vosotros')\n",
    "    # no olvidar separar las operaciones de las variables con and y prestar atención al and: repetir variables"
   ]
  },
  {
   "attachments": {},
   "cell_type": "markdown",
   "metadata": {},
   "source": [
    "3. Escribid un programa que pregunte el nombre del usuario a través de la función input(). Si el nombre es \"Bond\" haced que imprima \"Bienvenido a bordo de 007\". En caso contrario haced que imprima \"Buenos días NOMBRE\". (Reemplace NOMBRE por el nombre del usuario)."
   ]
  },
  {
   "cell_type": "code",
   "execution_count": null,
   "metadata": {},
   "outputs": [],
   "source": [
    "# Escribid un programa que pregunte el nombre del usuario a través de la función input(). \n",
    "# Si el nombre es \"Bond\" haced que imprima \"Bienvenido a bordo de 007\". \n",
    "# En caso contrario haced que imprima \"Buenos días NOMBRE\". \n",
    "# (Reemplace NOMBRE por el nombre del usuario).\n",
    "\n",
    "\n",
    "nombre = input('Cuál es tu nombre?')\n",
    "\n",
    "if nombre == 'Bond':\n",
    "    print('Bienvenido a bordo de 007')\n",
    "else: \n",
    "    print('Buenos días', nombre)\n",
    "    # aquí tuvimos que juntar el string con la variable \n",
    "    # nombre para poder poner en el input el nombre del usuario"
   ]
  },
  {
   "attachments": {},
   "cell_type": "markdown",
   "metadata": {},
   "source": [
    "4. Arbol es un diccionario que muestra el número de árboles de países por kilómetro cuadrado para países aleatorios con un número considerable de población. Crea una lista llamada \"masarboles\" que contenga el nombre de los países con más de 40.000 árboles por kilómetro cuadrado.\n",
    "\n",
    "tree = {\"Taiwan\": 69593,\n",
    "        \"Japan\": 49894, \n",
    "        \"Russia\": 41396, \n",
    "        \"Canada\": 36388, \n",
    "        \"Bulgaria\": 24987}"
   ]
  },
  {
   "cell_type": "code",
   "execution_count": 6,
   "metadata": {},
   "outputs": [
    {
     "name": "stdout",
     "output_type": "stream",
     "text": [
      "['Taiwan', 'Japan', 'Russia']\n"
     ]
    }
   ],
   "source": [
    "tree = {\"Taiwan\": 69593,\n",
    "        \"Japan\": 49894, \n",
    "        \"Russia\": 41396, \n",
    "        \"Canada\": 36388, \n",
    "        \"Bulgaria\": 24987}\n",
    "\n",
    "# ou me \n",
    "\n",
    "\n",
    "i = 0\n",
    "\n",
    "while i <= len(tree):\n",
    "        if value[i] > 40000:\n",
    "                print(key[i])\n",
    "        i = i + 1\n",
    "        \n",
    "        \n",
    "      \n",
    "        \n",
    "        \n",
    "\n",
    "        \n",
    "\n",
    "\n",
    " #una lista llamada \"masarboles\" que me de los paises con mas de 40.000 arboles\n"
   ]
  },
  {
   "attachments": {},
   "cell_type": "markdown",
   "metadata": {},
   "source": [
    "5.\n",
    "Los alumnos de un curso se han dividido en dos grupos A y B de acuerdo al sexo y el nombre. El grupo A esta formado por las mujeres con un nombre anterior a la M y los hombres con un nombre posterior a la N y el grupo B por el resto. Escribid un programa que pregunte al usuario su nombre y sexo, y muestre por pantalla el grupo que le corresponde."
   ]
  },
  {
   "cell_type": "code",
   "execution_count": 7,
   "metadata": {},
   "outputs": [],
   "source": [
    "\n",
    "nombre = input(\"Decid me tu nombre:\")\n",
    "\n",
    "sexo = input(\"Decid me tu sexo:\")\n",
    "\n",
    "\n",
    "if nombre   and sexo == mujer:"
   ]
  },
  {
   "attachments": {},
   "cell_type": "markdown",
   "metadata": {},
   "source": [
    "6. Escribid un programa que: Dada la variable z con valor 0, es decir z = 0.\n",
    "Mientras que el valor de z sea menor que 3: Si el valor de z es igual a 0:\n",
    "Printead el valor de z. Almancenad el valor en una lista auxiliar. Sumadle 1 al valor de z\n",
    "Si el valor de z es igual a 1: Printead el valor de z\n",
    "Almancenad el valor en una lista auxiliar. Sumadle 1 al valor de z\n",
    "En caso de que no se cumplan las condiciones anteriores:\n",
    "Printead el valor de z. Sumadle 1 al valor de z"
   ]
  }
 ],
 "metadata": {
  "kernelspec": {
   "display_name": "Python 3",
   "language": "python",
   "name": "python3"
  },
  "language_info": {
   "codemirror_mode": {
    "name": "ipython",
    "version": 3
   },
   "file_extension": ".py",
   "mimetype": "text/x-python",
   "name": "python",
   "nbconvert_exporter": "python",
   "pygments_lexer": "ipython3",
   "version": "3.11.0"
  },
  "orig_nbformat": 4,
  "vscode": {
   "interpreter": {
    "hash": "aee8b7b246df8f9039afb4144a1f6fd8d2ca17a180786b69acc140d282b71a49"
   }
  }
 },
 "nbformat": 4,
 "nbformat_minor": 2
}
