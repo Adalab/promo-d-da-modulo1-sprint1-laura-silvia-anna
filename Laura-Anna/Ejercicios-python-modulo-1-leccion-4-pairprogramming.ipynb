{
 "cells": [
  {
   "attachments": {},
   "cell_type": "markdown",
   "metadata": {},
   "source": [
    "- En el pair programming de hoy trabajaremos con diccionarios. El objetivo es poner en práctica todos los métodos aprendidos hasta el momento. Para ello lo primero que haremos será contruir un diccionario paso a paso. Nuestro diccionario estará compuesto por:\n",
    "\n",
    "    - Cuatro keys que serán:\n",
    "      - nombres\n",
    "      - apellidos\n",
    "      - edades\n",
    "      - hijos\n",
    "  \n",
    "  \n",
    "1. Cada una de las keys tendrá un value que será una lista que iremos construyendo con inputs. Para crear los values seguid los pasos que os indicamos a continuación.\n",
    "\n",
    "2. Cread un input que pregunte a la usuaria por tres nombres. Almacenad el resultado en una lista. Esta lista será el value de la key nombres\n",
    "\n",
    "3. Cread un input que pregunte a la usuaria por tres apellidos. Convertir el resultado en lista y este será el value de la key apellidos.\n",
    "\n",
    "4. Cread un input que pregunte a la usuaria por tres edades. Almancenad los resultados en una lista. Esta lista será el value de la key edades.\n",
    "\n",
    "5. Cread un input que pregunte a la usuaria por el número de hijos. Almacenad este resultado en una lista. Esta lista será el value de la key hijos.\n",
    "\n",
    "6. Cread un diccionario con los resultados del input. Al final de todos estos pasos deberíamos tener un diccionario similar a este:aaaa"
   ]
  },
  {
   "cell_type": "code",
   "execution_count": 1,
   "metadata": {},
   "outputs": [
    {
     "name": "stdout",
     "output_type": "stream",
     "text": [
      "['Laura', 'Silvia', 'Ana']\n"
     ]
    },
    {
     "data": {
      "text/plain": [
       "list"
      ]
     },
     "execution_count": 1,
     "metadata": {},
     "output_type": "execute_result"
    }
   ],
   "source": [
    "\n",
    "dicionario = { }\n",
    "\n",
    "{'nombres': ['Lara', ' Alejandro', ' Ana'],\n",
    "  'apellidos': ['Lopez', ' Martin', ' Solo'],\n",
    "  'edades': [34, 20, 28],\n",
    "  'hijos': [2, 0, 1]}\n",
    "\n",
    "# Cada una de las keys tendrá un value que será una lista que iremos construyendo con inputs.\n",
    "#Para crear los values seguid los pasos que os indicamos a continuación.\n",
    "\n",
    "lista_nombres = input('Díme tres nombres:').split(\" \")\n",
    "\n",
    "print(lista_nombres)\n",
    "\n",
    "type(lista_nombres)\n",
    "\n",
    "\n",
    "\n",
    "\n",
    "\n",
    "\n"
   ]
  },
  {
   "cell_type": "code",
   "execution_count": 6,
   "metadata": {},
   "outputs": [],
   "source": [
    "lista_apellidos = input('Díme tres apellidos:').split(\" \")\n",
    "\n"
   ]
  },
  {
   "cell_type": "code",
   "execution_count": 7,
   "metadata": {},
   "outputs": [
    {
     "data": {
      "text/plain": [
       "['Suarez', 'Lopez', 'Ruiz']"
      ]
     },
     "execution_count": 7,
     "metadata": {},
     "output_type": "execute_result"
    }
   ],
   "source": [
    "lista_apellidos "
   ]
  },
  {
   "cell_type": "code",
   "execution_count": 8,
   "metadata": {},
   "outputs": [],
   "source": [
    "lista_edades = input('Díme tres edades:').split(\" \")\n",
    "\n"
   ]
  },
  {
   "cell_type": "code",
   "execution_count": 9,
   "metadata": {},
   "outputs": [
    {
     "name": "stdout",
     "output_type": "stream",
     "text": [
      "['34', '23', '54']\n"
     ]
    }
   ],
   "source": [
    "print(lista_edades)"
   ]
  },
  {
   "cell_type": "code",
   "execution_count": 10,
   "metadata": {},
   "outputs": [
    {
     "data": {
      "text/plain": [
       "['3', '2', '1']"
      ]
     },
     "execution_count": 10,
     "metadata": {},
     "output_type": "execute_result"
    }
   ],
   "source": [
    "lista_hijos = input('Díme cuantos hijos tienes:').split(\" \")\n",
    "\n",
    "lista_hijos \n"
   ]
  },
  {
   "cell_type": "code",
   "execution_count": 11,
   "metadata": {},
   "outputs": [
    {
     "name": "stdout",
     "output_type": "stream",
     "text": [
      "['3', '2', '1']\n"
     ]
    }
   ],
   "source": [
    "print(lista_hijos)"
   ]
  },
  {
   "attachments": {},
   "cell_type": "markdown",
   "metadata": {},
   "source": [
    "6. Cread un diccionario con los resultados del input. Al final de todos estos pasos deberíamos tener un diccionario similar a este:aaaa\n"
   ]
  },
  {
   "cell_type": "code",
   "execution_count": 12,
   "metadata": {},
   "outputs": [
    {
     "name": "stdout",
     "output_type": "stream",
     "text": [
      "{'nombres': ['Laura', 'Silvia', 'Ana'], 'apellidos': ['Suarez', 'Lopez', 'Ruiz'], 'edades': ['34', '23', '54'], 'hijos': ['3', '2', '1']}\n"
     ]
    }
   ],
   "source": [
    "datos_personales = {\"nombres\": lista_nombres, \"apellidos\": lista_apellidos, \"edades\": lista_edades, \"hijos\": lista_hijos}\n",
    "\n",
    "print(datos_personales)"
   ]
  },
  {
   "attachments": {},
   "cell_type": "markdown",
   "metadata": {},
   "source": []
  },
  {
   "attachments": {},
   "cell_type": "markdown",
   "metadata": {},
   "source": [
    "7. Una vez tengáis creado el diccionario, añadid una nueva key donde tengamos la información sobre el número de hermanos.\n",
    "8. ¿Cúales son las keys de nuestro diccionario? ¿Y los values?"
   ]
  },
  {
   "cell_type": "code",
   "execution_count": 14,
   "metadata": {},
   "outputs": [
    {
     "name": "stdout",
     "output_type": "stream",
     "text": [
      "{'nombres': ['Laura', 'Silvia', 'Ana'], 'apellidos': ['Suarez', 'Lopez', 'Ruiz'], 'edades': ['34', '23', '54'], 'hijos': ['3', '2', '1'], 'munero_hermanos': []}\n",
      "dict_keys(['nombres', 'apellidos', 'edades', 'hijos', 'munero_hermanos'])\n",
      "dict_values([['Laura', 'Silvia', 'Ana'], ['Suarez', 'Lopez', 'Ruiz'], ['34', '23', '54'], ['3', '2', '1'], []])\n"
     ]
    }
   ],
   "source": [
    "\n",
    "datos_personales.update({\"munero_hermanos\":[]})\n",
    "\n",
    "print(datos_personales)\n",
    "\n"
   ]
  },
  {
   "attachments": {},
   "cell_type": "markdown",
   "metadata": {},
   "source": [
    "9. Para extraer los values de una key podemos hacerlo de varias formas.\n",
    "10. Extraed los valores de la key nombres. Utilizad dos métodos diferentes."
   ]
  },
  {
   "cell_type": "code",
   "execution_count": 15,
   "metadata": {},
   "outputs": [
    {
     "name": "stdout",
     "output_type": "stream",
     "text": [
      "dict_keys(['nombres', 'apellidos', 'edades', 'hijos', 'munero_hermanos'])\n",
      "dict_values([['Laura', 'Silvia', 'Ana'], ['Suarez', 'Lopez', 'Ruiz'], ['34', '23', '54'], ['3', '2', '1'], []])\n"
     ]
    }
   ],
   "source": [
    "print(datos_personales.keys())\n",
    "\n",
    "print(datos_personales.values())"
   ]
  },
  {
   "attachments": {},
   "cell_type": "markdown",
   "metadata": {},
   "source": [
    "11. Extraed los valores de la key nacionalidad. En caso de que no exista, cread esa key con el value \"desconocida\"."
   ]
  },
  {
   "cell_type": "code",
   "execution_count": 16,
   "metadata": {},
   "outputs": [
    {
     "name": "stdout",
     "output_type": "stream",
     "text": [
      "{'nombres': ['Laura', 'Silvia', 'Ana'], 'apellidos': ['Suarez', 'Lopez', 'Ruiz'], 'edades': ['34', '23', '54'], 'hijos': ['3', '2', '1'], 'munero_hermanos': [], 'Nacionalidad': 'desconocida'}\n"
     ]
    }
   ],
   "source": [
    "datos_personales.setdefault('Nacionalidad', 'desconocida')\n",
    "print(datos_personales)"
   ]
  },
  {
   "attachments": {},
   "cell_type": "markdown",
   "metadata": {},
   "source": [
    "12. Ordena los elementos del diccionario basandonos en las keys y los values. Esto nos devuelve una lista de tuplas(todavía no hemos visto este tipo de datos, pero lo veremos en la lección de mañana). Convertid esta lista de tuplas en diccionario.\n",
    "13. Eliminad la key de \"nacionalidad\""
   ]
  },
  {
   "cell_type": "code",
   "execution_count": 26,
   "metadata": {},
   "outputs": [
    {
     "name": "stdout",
     "output_type": "stream",
     "text": [
      "{'Nacionalidad': 'desconocida', 'apellidos': ['Suarez', 'Lopez', 'Ruiz'], 'edades': ['34', '23', '54'], 'hijos': ['3', '2', '1'], 'munero_hermanos': [], 'nombres': ['Laura', 'Silvia', 'Ana']}\n",
      "{'apellidos': ['Suarez', 'Lopez', 'Ruiz'], 'edades': ['34', '23', '54'], 'hijos': ['3', '2', '1'], 'munero_hermanos': [], 'nombres': ['Laura', 'Silvia', 'Ana']}\n"
     ]
    }
   ],
   "source": [
    "\n",
    "\n",
    "lista_datos_personales = sorted(datos_personales.items())\n",
    "lista_datos_personales\n",
    "\n",
    "datos_personales_tuplas = dict(lista_datos_personales)\n",
    "print(datos_personales_tuplas)\n",
    "\n",
    "\n",
    "\n",
    "datos_personales_tuplas.pop('Nacionalidad')\n",
    "print(datos_personales_tuplas)\n",
    "\n",
    "\n"
   ]
  },
  {
   "attachments": {},
   "cell_type": "markdown",
   "metadata": {},
   "source": [
    "14. Utilizando métodos de Python. ¿Qué persona tiene mayor nuúmero de hijos? ¿Y quién es la más joven?"
   ]
  },
  {
   "cell_type": "code",
   "execution_count": 27,
   "metadata": {},
   "outputs": [],
   "source": [
    "max_hijos = datos_personales['hijos'].index(max(datos_personales['hijos']))\n",
    "min_edad = datos_personales['edades'].index(min(datos_personales['edades']))"
   ]
  },
  {
   "cell_type": "code",
   "execution_count": 29,
   "metadata": {},
   "outputs": [
    {
     "name": "stdout",
     "output_type": "stream",
     "text": [
      "La persona con más hijos es Laura\n",
      "La persona más joven es Silvia\n"
     ]
    }
   ],
   "source": [
    "print('La persona con más hijos es', datos_personales['nombres'][max_hijos])\n",
    "print('La persona más joven es', datos_personales['nombres'][min_edad])"
   ]
  }
 ],
 "metadata": {
  "kernelspec": {
   "display_name": "Python 3",
   "language": "python",
   "name": "python3"
  },
  "language_info": {
   "codemirror_mode": {
    "name": "ipython",
    "version": 3
   },
   "file_extension": ".py",
   "mimetype": "text/x-python",
   "name": "python",
   "nbconvert_exporter": "python",
   "pygments_lexer": "ipython3",
   "version": "3.11.0"
  },
  "orig_nbformat": 4,
  "vscode": {
   "interpreter": {
    "hash": "aee8b7b246df8f9039afb4144a1f6fd8d2ca17a180786b69acc140d282b71a49"
   }
  }
 },
 "nbformat": 4,
 "nbformat_minor": 2
}
