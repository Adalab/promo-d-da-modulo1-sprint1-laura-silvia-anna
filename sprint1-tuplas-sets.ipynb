{
 "cells": [
  {
   "cell_type": "code",
   "execution_count": 6,
   "metadata": {},
   "outputs": [
    {
     "data": {
      "text/plain": [
       "tuple"
      ]
     },
     "execution_count": 6,
     "metadata": {},
     "output_type": "execute_result"
    }
   ],
   "source": [
    "# Cread una tupla que contega la letra 'A'\n",
    "\n",
    "tupla1 =('A',)\n",
    "type(tupla1)"
   ]
  },
  {
   "cell_type": "code",
   "execution_count": 7,
   "metadata": {},
   "outputs": [
    {
     "ename": "AttributeError",
     "evalue": "'tuple' object has no attribute 'extend'",
     "output_type": "error",
     "traceback": [
      "\u001b[0;31m---------------------------------------------------------------------------\u001b[0m",
      "\u001b[0;31mAttributeError\u001b[0m                            Traceback (most recent call last)",
      "\u001b[0;32m/tmp/ipykernel_919/983542141.py\u001b[0m in \u001b[0;36m<module>\u001b[0;34m\u001b[0m\n\u001b[1;32m      1\u001b[0m \u001b[0mlista_adalab\u001b[0m \u001b[0;34m=\u001b[0m \u001b[0;34m[\u001b[0m\u001b[0;34m'd'\u001b[0m\u001b[0;34m,\u001b[0m \u001b[0;34m'a'\u001b[0m\u001b[0;34m,\u001b[0m \u001b[0;34m'l'\u001b[0m\u001b[0;34m,\u001b[0m \u001b[0;34m'a'\u001b[0m\u001b[0;34m,\u001b[0m \u001b[0;34m'b'\u001b[0m\u001b[0;34m]\u001b[0m\u001b[0;34m\u001b[0m\u001b[0;34m\u001b[0m\u001b[0m\n\u001b[0;32m----> 2\u001b[0;31m \u001b[0mtupla1\u001b[0m \u001b[0;34m=\u001b[0m \u001b[0mtupla1\u001b[0m\u001b[0;34m.\u001b[0m\u001b[0mextend\u001b[0m\u001b[0;34m(\u001b[0m\u001b[0mlista_adalab\u001b[0m\u001b[0;34m)\u001b[0m\u001b[0;34m\u001b[0m\u001b[0;34m\u001b[0m\u001b[0m\n\u001b[0m\u001b[1;32m      3\u001b[0m \u001b[0mprint\u001b[0m\u001b[0;34m(\u001b[0m\u001b[0mtupla1\u001b[0m\u001b[0;34m)\u001b[0m\u001b[0;34m\u001b[0m\u001b[0;34m\u001b[0m\u001b[0m\n\u001b[1;32m      4\u001b[0m \u001b[0;34m\u001b[0m\u001b[0m\n\u001b[1;32m      5\u001b[0m \u001b[0;31m# No se puede porque las tuplas son inmutables, tenemos que convertir a lista antes de hacer ningún cambio.\u001b[0m\u001b[0;34m\u001b[0m\u001b[0;34m\u001b[0m\u001b[0m\n",
      "\u001b[0;31mAttributeError\u001b[0m: 'tuple' object has no attribute 'extend'"
     ]
    }
   ],
   "source": [
    "lista_adalab = ['d', 'a', 'l', 'a', 'b']\n",
    "tupla1 = tupla1.extend(lista_adalab)\n",
    "print(tupla1)\n",
    "\n",
    "# No se puede porque las tuplas son inmutables, tenemos que convertir a lista antes de hacer ningún cambio."
   ]
  },
  {
   "cell_type": "code",
   "execution_count": 8,
   "metadata": {},
   "outputs": [
    {
     "name": "stdout",
     "output_type": "stream",
     "text": [
      "('A', 'd', 'a', 'l', 'a', 'b')\n",
      "<class 'tuple'>\n"
     ]
    }
   ],
   "source": [
    "# Convertimos la tupla a lista, añadimos los elementos y reconvertimos a tupla\n",
    "\n",
    "tupla1 = list(tupla1)\n",
    "tupla1.extend(lista_adalab)\n",
    "tupla1 = tuple(tupla1)\n",
    "\n",
    "print(tupla1)\n",
    "print(type(tupla1))"
   ]
  },
  {
   "cell_type": "code",
   "execution_count": 11,
   "metadata": {},
   "outputs": [
    {
     "name": "stdout",
     "output_type": "stream",
     "text": [
      "3\n",
      "l\n"
     ]
    }
   ],
   "source": [
    "# Obtenemos el índice de l\n",
    "\n",
    "print(tupla1.index('l'))\n",
    "print(tupla1[-3])"
   ]
  },
  {
   "cell_type": "code",
   "execution_count": 31,
   "metadata": {},
   "outputs": [
    {
     "name": "stdout",
     "output_type": "stream",
     "text": [
      "La letra a aparece en nuestra tupla 2 veces\n"
     ]
    }
   ],
   "source": [
    "# Cuántas veces aparece la letra a en nuestra tupla\n",
    "\n",
    "cuenta_a = tupla1.count('a')\n",
    "print(f'La letra a aparece en nuestra tupla {cuenta_a} veces')"
   ]
  },
  {
   "cell_type": "code",
   "execution_count": 14,
   "metadata": {},
   "outputs": [
    {
     "name": "stdout",
     "output_type": "stream",
     "text": [
      "2\n"
     ]
    }
   ],
   "source": [
    "print(tupla1.count('a'))"
   ]
  },
  {
   "attachments": {},
   "cell_type": "markdown",
   "metadata": {},
   "source": [
    "\n",
    "5- Cread un set vacío llamado set6. Añadid el set3 y set4 al set6.\n",
    "\n",
    "\n",
    "6- ¿Es el set1 igual al set6?\n",
    "\n",
    "\n",
    "7- Chequead si el set1 contiene al set2. 💡Pista: deberéis usar el método issubset()\n",
    "\n",
    "\n",
    "8- Eliminad el primer elemento del set6"
   ]
  },
  {
   "cell_type": "code",
   "execution_count": 17,
   "metadata": {},
   "outputs": [],
   "source": [
    "#   1- Dados los siguientes sets:\n",
    "#   set1 = {1,3,6,2,8,9}\n",
    "#   set2 = {2,1,9,3,10,18}\n",
    "\n",
    "set1 = {1,3,6,2,8,9}\n",
    "set2 = {2,1,9,3,10,18}"
   ]
  },
  {
   "cell_type": "code",
   "execution_count": 18,
   "metadata": {},
   "outputs": [
    {
     "name": "stdout",
     "output_type": "stream",
     "text": [
      "{8, 6}\n"
     ]
    }
   ],
   "source": [
    "# 2- Identifica los elementos que están en set1 pero no en set2. Almacenad los resultados en una variable que se llame set3\n",
    "\n",
    "set3 = set1.difference(set2)\n",
    "print(set3)"
   ]
  },
  {
   "cell_type": "code",
   "execution_count": 19,
   "metadata": {},
   "outputs": [
    {
     "name": "stdout",
     "output_type": "stream",
     "text": [
      "{18, 10}\n"
     ]
    }
   ],
   "source": [
    "# 3- Identifica los elementos que están en set2 pero no en set1. Almacenad los resultados en una variable que se llame set4.\n",
    "\n",
    "set4 = set2.difference(set1)\n",
    "print(set4)"
   ]
  },
  {
   "cell_type": "code",
   "execution_count": 20,
   "metadata": {},
   "outputs": [
    {
     "name": "stdout",
     "output_type": "stream",
     "text": [
      "{1, 2, 3, 9}\n"
     ]
    }
   ],
   "source": [
    "# 4- Identifica los elementos comunes entre el set1 y el set2. Almacenad los resultados en una variable que se llame set5.\n",
    "\n",
    "set5 = set1.intersection(set2)\n",
    "print(set5)"
   ]
  },
  {
   "cell_type": "code",
   "execution_count": 23,
   "metadata": {},
   "outputs": [
    {
     "name": "stdout",
     "output_type": "stream",
     "text": [
      "{8, 18, 10, 6}\n",
      "{8, 6}\n"
     ]
    }
   ],
   "source": [
    "# 5- Cread un set vacío llamado set6. Añadid el set3 y set4 al set6.\n",
    "\n",
    "set6 = {}\n",
    "set6 = set3.union(set4)\n",
    "print(set6)"
   ]
  },
  {
   "cell_type": "code",
   "execution_count": 25,
   "metadata": {},
   "outputs": [
    {
     "name": "stdout",
     "output_type": "stream",
     "text": [
      "False\n",
      "{1, 2, 3, 6, 8, 9}\n"
     ]
    }
   ],
   "source": [
    "# 6- ¿Es el set1 igual al set6?\n",
    "\n",
    "print(set1 == set6)"
   ]
  },
  {
   "cell_type": "code",
   "execution_count": 26,
   "metadata": {},
   "outputs": [
    {
     "name": "stdout",
     "output_type": "stream",
     "text": [
      "False\n"
     ]
    }
   ],
   "source": [
    "# 7- Chequead si el set1 contiene al set2. 💡Pista: deberéis usar el método issubset()\n",
    "\n",
    "print(set2.issubset(set1))"
   ]
  },
  {
   "cell_type": "code",
   "execution_count": 27,
   "metadata": {},
   "outputs": [
    {
     "name": "stdout",
     "output_type": "stream",
     "text": [
      "{8, 18, 10, 6}\n"
     ]
    }
   ],
   "source": [
    "# 8- Eliminad el primer elemento del set6\n",
    "\n",
    "# Los sets son aleatorios, así que necesitamos imprimir los elementos para saber cuál es el primero y poder eliminarlo.\n",
    "print(set6)\n"
   ]
  },
  {
   "cell_type": "code",
   "execution_count": 28,
   "metadata": {},
   "outputs": [
    {
     "name": "stdout",
     "output_type": "stream",
     "text": [
      "{18, 10, 6}\n"
     ]
    }
   ],
   "source": [
    "# El primer elemento es 8, así que lo eliminamos.\n",
    "\n",
    "set6.remove(8)\n",
    "print(set6)"
   ]
  }
 ],
 "metadata": {
  "kernelspec": {
   "display_name": "base",
   "language": "python",
   "name": "python3"
  },
  "language_info": {
   "codemirror_mode": {
    "name": "ipython",
    "version": 3
   },
   "file_extension": ".py",
   "mimetype": "text/x-python",
   "name": "python",
   "nbconvert_exporter": "python",
   "pygments_lexer": "ipython3",
   "version": "3.9.7"
  },
  "orig_nbformat": 4
 },
 "nbformat": 4,
 "nbformat_minor": 2
}
