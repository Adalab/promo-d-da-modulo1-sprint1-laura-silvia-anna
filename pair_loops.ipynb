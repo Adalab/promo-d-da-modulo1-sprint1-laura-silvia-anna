{
 "cells": [
  {
   "cell_type": "code",
   "execution_count": null,
   "metadata": {},
   "outputs": [],
   "source": [
    "#1.\n",
    "#Escribid un programa que pregunte al usuario una cantidad a invertir, \n",
    "# el interés anual y el número de años, y muestre por pantalla el capital obtenido \n",
    "# en la inversión cada año que dura la inversión."
   ]
  },
  {
   "cell_type": "code",
   "execution_count": 6,
   "metadata": {},
   "outputs": [
    {
     "name": "stdout",
     "output_type": "stream",
     "text": [
      "567\n",
      "0.05\n",
      "10\n"
     ]
    }
   ],
   "source": [
    "\n",
    "\n",
    "capital = int(input('Qué cantidad quisieras invertir?'))\n",
    "\n",
    "print(capital)\n",
    "\n",
    "interes = int(input('Qué porcentaje de interés deseas?'))/100\n",
    "\n",
    "print(interes)\n",
    "\n",
    "numero_de_años = int(input('A qué plazo en años quisieras invertir?'))\n",
    "\n",
    "print(numero_de_años)\n",
    "\n",
    "\n",
    "\n",
    "\n",
    "\n"
   ]
  },
  {
   "cell_type": "code",
   "execution_count": 7,
   "metadata": {},
   "outputs": [
    {
     "name": "stdout",
     "output_type": "stream",
     "text": [
      "Hemos obtenido este interés 28.35\n",
      "Este es tu capital actual 595.35\n",
      "Hemos obtenido este interés 29.767500000000002\n",
      "Este es tu capital actual 625.1175000000001\n",
      "Hemos obtenido este interés 31.255875000000003\n",
      "Este es tu capital actual 656.3733750000001\n",
      "Hemos obtenido este interés 32.81866875000001\n",
      "Este es tu capital actual 689.1920437500002\n",
      "Hemos obtenido este interés 34.45960218750001\n",
      "Este es tu capital actual 723.6516459375001\n",
      "Hemos obtenido este interés 36.182582296875005\n",
      "Este es tu capital actual 759.8342282343751\n",
      "Hemos obtenido este interés 37.99171141171876\n",
      "Este es tu capital actual 797.8259396460938\n",
      "Hemos obtenido este interés 39.891296982304695\n",
      "Este es tu capital actual 837.7172366283985\n",
      "Hemos obtenido este interés 41.88586183141993\n",
      "Este es tu capital actual 879.6030984598184\n",
      "Hemos obtenido este interés 43.98015492299092\n",
      "Este es tu capital actual 923.5832533828093\n"
     ]
    }
   ],
   "source": [
    "for i in range(numero_de_años):\n",
    "    print('Hemos obtenido este interés', capital*interes)\n",
    "    capital += capital*interes\n",
    "    print ('Este es tu capital actual', capital)\n",
    "\n",
    "\n"
   ]
  },
  {
   "attachments": {},
   "cell_type": "markdown",
   "metadata": {},
   "source": [
    "Escribid un programa en el que se pregunte al usuario por una frase y una letra, y muestre por pantalla el número de veces que aparece la letra en la frase."
   ]
  },
  {
   "cell_type": "code",
   "execution_count": 14,
   "metadata": {},
   "outputs": [],
   "source": [
    "frase = input('Dime tu frase hecha preferida')\n",
    "\n",
    "letra = input('Cuál es tu letra preferida?')"
   ]
  },
  {
   "cell_type": "code",
   "execution_count": 15,
   "metadata": {},
   "outputs": [
    {
     "name": "stdout",
     "output_type": "stream",
     "text": [
      "a quien madruga, dios le ayuda a\n"
     ]
    }
   ],
   "source": [
    "print(frase, letra)"
   ]
  },
  {
   "cell_type": "code",
   "execution_count": 16,
   "metadata": {},
   "outputs": [],
   "source": [
    "veces = 0 "
   ]
  },
  {
   "cell_type": "code",
   "execution_count": 17,
   "metadata": {},
   "outputs": [
    {
     "name": "stdout",
     "output_type": "stream",
     "text": [
      "5\n"
     ]
    }
   ],
   "source": [
    "for i in frase:\n",
    "    if i == letra: \n",
    "        veces += 1\n",
    "\n",
    "print(veces) "
   ]
  },
  {
   "attachments": {},
   "cell_type": "markdown",
   "metadata": {},
   "source": [
    "Escribid un programa que nos devuelva la tabla de multiplicar de un número especificado en una función input\n"
   ]
  },
  {
   "cell_type": "code",
   "execution_count": 19,
   "metadata": {},
   "outputs": [],
   "source": [
    "\n",
    "tabla = int(input('Tablaa de multiplicar del siete'))"
   ]
  },
  {
   "cell_type": "code",
   "execution_count": 20,
   "metadata": {},
   "outputs": [
    {
     "name": "stdout",
     "output_type": "stream",
     "text": [
      "7\n",
      ".....\n",
      "14\n",
      ".....\n",
      "21\n",
      ".....\n",
      "28\n",
      ".....\n",
      "35\n",
      ".....\n",
      "42\n",
      ".....\n",
      "49\n",
      ".....\n",
      "56\n",
      ".....\n",
      "63\n",
      ".....\n",
      "70\n",
      ".....\n"
     ]
    }
   ],
   "source": [
    "for i in range(1, 11):\n",
    "    print(tabla*i)\n",
    "    print('.....')"
   ]
  },
  {
   "attachments": {},
   "cell_type": "markdown",
   "metadata": {},
   "source": [
    "Dada la siguinte lista de números:\n",
    "numbers = [12, 75, 150, 180, 145, 525, 50]\n",
    "Escribid un programa que muestre sólo los números de una lista que cumplan las siguientes condiciones\n",
    "El número debe ser divisible entre cinco\n",
    "Si el número es mayor que 150, se salta y se pasa al siguiente número\n",
    "Si el número es mayor que 500, entonces detenga el bucle"
   ]
  },
  {
   "cell_type": "code",
   "execution_count": 2,
   "metadata": {},
   "outputs": [
    {
     "name": "stdout",
     "output_type": "stream",
     "text": [
      "75\n",
      "150\n",
      "145\n"
     ]
    }
   ],
   "source": [
    "numbers = [12, 75, 150, 180, 145, 525, 50]\n",
    "\n",
    "for i in numbers : \n",
    "    if i > 500:\n",
    "        break\n",
    "    elif i > 150:\n",
    "        continue \n",
    "    elif  i % 5 == 0 :\n",
    "        print(i)\n",
    "   \n"
   ]
  },
  {
   "attachments": {},
   "cell_type": "markdown",
   "metadata": {},
   "source": [
    "Dada la siguiente lista:\n",
    "```python\n",
    "list1 = [10, 20, 30, 40, 50]\n",
    "```\n",
    "Imprimir la lista en orden inverso"
   ]
  },
  {
   "cell_type": "code",
   "execution_count": 4,
   "metadata": {},
   "outputs": [
    {
     "name": "stdout",
     "output_type": "stream",
     "text": [
      "[50, 40, 30, 20, 10]\n"
     ]
    }
   ],
   "source": [
    "list1 = [10, 20, 30, 40, 50]\n",
    "\n",
    "lista_reversa = [list1[-i] for i in range(1, len(list1) + 1)]\n",
    "print(lista_reversa)"
   ]
  },
  {
   "attachments": {},
   "cell_type": "markdown",
   "metadata": {},
   "source": [
    "Dado el siguiente código\n",
    "```python\n",
    "for i in ['1','2','3']:\n",
    "    print (i**2)\n",
    "\n",
    "```\n",
    "Usando un try ... except, cread un programa para evitar que nos de un error el código anterior. En su lugar, si se encuentra un error, deberéis poner el código necesario para que no nos devuelva error."
   ]
  },
  {
   "cell_type": "code",
   "execution_count": 5,
   "metadata": {},
   "outputs": [
    {
     "name": "stdout",
     "output_type": "stream",
     "text": [
      "1\n",
      "4\n",
      "9\n"
     ]
    }
   ],
   "source": [
    "for i in ['1','2','3']:\n",
    "    try:\n",
    "        print (i**2)\n",
    "    except:\n",
    "        i = int(i)\n",
    "        print(i**2)"
   ]
  }
 ],
 "metadata": {
  "kernelspec": {
   "display_name": "Python 3",
   "language": "python",
   "name": "python3"
  },
  "language_info": {
   "codemirror_mode": {
    "name": "ipython",
    "version": 3
   },
   "file_extension": ".py",
   "mimetype": "text/x-python",
   "name": "python",
   "nbconvert_exporter": "python",
   "pygments_lexer": "ipython3",
   "version": "3.9.7"
  },
  "orig_nbformat": 4,
  "vscode": {
   "interpreter": {
    "hash": "31f2aee4e71d21fbe5cf8b01ff0e069b9275f58929596ceb00d14d90e3e16cd6"
   }
  }
 },
 "nbformat": 4,
 "nbformat_minor": 2
}
